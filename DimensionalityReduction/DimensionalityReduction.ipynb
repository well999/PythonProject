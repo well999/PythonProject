{
 "cells": [
  {
   "cell_type": "code",
   "execution_count": 1,
   "source": [
    "import numpy as np\r\n",
    "import pandas as pd\r\n",
    "import matplotlib.pyplot as plt\r\n",
    "from sklearn.preprocessing import StandardScaler\r\n",
    "from sklearn.model_selection import train_test_split\r\n",
    "from sklearn.decomposition import PCA\r\n",
    "from matplotlib.colors import ListedColormap\r\n",
    "from sklearn.linear_model import LogisticRegression\r\n",
    "# %matplotlib Widget"
   ],
   "outputs": [],
   "metadata": {}
  },
  {
   "cell_type": "code",
   "execution_count": 2,
   "source": [
    "plt.rcParams[\"font.sans-serif\"] = \"SimHei\"\r\n",
    "plt.rcParams[\"axes.unicode_minus\"] = False"
   ],
   "outputs": [],
   "metadata": {}
  },
  {
   "cell_type": "markdown",
   "source": [
    "## 数据获取"
   ],
   "metadata": {}
  },
  {
   "cell_type": "code",
   "execution_count": 3,
   "source": [
    "# 读取数据（）\r\n",
    "df_wine = pd.read_csv('wine.data',header=None)"
   ],
   "outputs": [],
   "metadata": {}
  },
  {
   "cell_type": "markdown",
   "source": [
    "*该数据集是UCI的公开数据集，是对意大利同一地区种植的葡萄酒进行分析的结果，数据集共14列数据，第一个属性是类标识符，分别是1/2/3来表示，代表葡萄酒的三个分类。剩余的13个属性是，酒精、苹果酸、灰、灰分的碱度、镁、总酚、黄酮类化合物、非黄烷类酚类、原花色素、颜色强度、色调等。*"
   ],
   "metadata": {}
  },
  {
   "cell_type": "code",
   "execution_count": 4,
   "source": [
    "# 设置列索引\r\n",
    "df_wine.columns = [\r\n",
    "    \"Class label\",\r\n",
    "    \"Alcohol\",\r\n",
    "    \"Malic acid\",\r\n",
    "    \"Ash\",\r\n",
    "    \"Alcalinity of ash\",\r\n",
    "    \"Magnesium\",\r\n",
    "    \"Total phenols\",\r\n",
    "    \"Flavanoids\",\r\n",
    "    \"Nonflavanoid phenols\",\r\n",
    "    \"Proanthocyanins\",\r\n",
    "    \"Color intensity\",\r\n",
    "    \"Hue\",\r\n",
    "    \"OD280/OD315 of diluted wines\",\r\n",
    "    \"Proline\",\r\n",
    "]"
   ],
   "outputs": [],
   "metadata": {}
  },
  {
   "cell_type": "code",
   "execution_count": 5,
   "source": [
    "# 数据维度\r\n",
    "df_wine.shape"
   ],
   "outputs": [
    {
     "output_type": "execute_result",
     "data": {
      "text/plain": [
       "(178, 14)"
      ]
     },
     "metadata": {},
     "execution_count": 5
    }
   ],
   "metadata": {}
  },
  {
   "cell_type": "code",
   "execution_count": 6,
   "source": [
    "# 每一类数据包含的样本个数\r\n",
    "df_wine['Class label'].value_counts()"
   ],
   "outputs": [
    {
     "output_type": "execute_result",
     "data": {
      "text/plain": [
       "2    71\n",
       "1    59\n",
       "3    48\n",
       "Name: Class label, dtype: int64"
      ]
     },
     "metadata": {},
     "execution_count": 6
    }
   ],
   "metadata": {}
  },
  {
   "cell_type": "code",
   "execution_count": 7,
   "source": [
    "df_wine.head()"
   ],
   "outputs": [
    {
     "output_type": "execute_result",
     "data": {
      "text/html": [
       "<div>\n",
       "<style scoped>\n",
       "    .dataframe tbody tr th:only-of-type {\n",
       "        vertical-align: middle;\n",
       "    }\n",
       "\n",
       "    .dataframe tbody tr th {\n",
       "        vertical-align: top;\n",
       "    }\n",
       "\n",
       "    .dataframe thead th {\n",
       "        text-align: right;\n",
       "    }\n",
       "</style>\n",
       "<table border=\"1\" class=\"dataframe\">\n",
       "  <thead>\n",
       "    <tr style=\"text-align: right;\">\n",
       "      <th></th>\n",
       "      <th>Class label</th>\n",
       "      <th>Alcohol</th>\n",
       "      <th>Malic acid</th>\n",
       "      <th>Ash</th>\n",
       "      <th>Alcalinity of ash</th>\n",
       "      <th>Magnesium</th>\n",
       "      <th>Total phenols</th>\n",
       "      <th>Flavanoids</th>\n",
       "      <th>Nonflavanoid phenols</th>\n",
       "      <th>Proanthocyanins</th>\n",
       "      <th>Color intensity</th>\n",
       "      <th>Hue</th>\n",
       "      <th>OD280/OD315 of diluted wines</th>\n",
       "      <th>Proline</th>\n",
       "    </tr>\n",
       "  </thead>\n",
       "  <tbody>\n",
       "    <tr>\n",
       "      <th>0</th>\n",
       "      <td>1</td>\n",
       "      <td>14.23</td>\n",
       "      <td>1.71</td>\n",
       "      <td>2.43</td>\n",
       "      <td>15.6</td>\n",
       "      <td>127</td>\n",
       "      <td>2.80</td>\n",
       "      <td>3.06</td>\n",
       "      <td>0.28</td>\n",
       "      <td>2.29</td>\n",
       "      <td>5.64</td>\n",
       "      <td>1.04</td>\n",
       "      <td>3.92</td>\n",
       "      <td>1065</td>\n",
       "    </tr>\n",
       "    <tr>\n",
       "      <th>1</th>\n",
       "      <td>1</td>\n",
       "      <td>13.20</td>\n",
       "      <td>1.78</td>\n",
       "      <td>2.14</td>\n",
       "      <td>11.2</td>\n",
       "      <td>100</td>\n",
       "      <td>2.65</td>\n",
       "      <td>2.76</td>\n",
       "      <td>0.26</td>\n",
       "      <td>1.28</td>\n",
       "      <td>4.38</td>\n",
       "      <td>1.05</td>\n",
       "      <td>3.40</td>\n",
       "      <td>1050</td>\n",
       "    </tr>\n",
       "    <tr>\n",
       "      <th>2</th>\n",
       "      <td>1</td>\n",
       "      <td>13.16</td>\n",
       "      <td>2.36</td>\n",
       "      <td>2.67</td>\n",
       "      <td>18.6</td>\n",
       "      <td>101</td>\n",
       "      <td>2.80</td>\n",
       "      <td>3.24</td>\n",
       "      <td>0.30</td>\n",
       "      <td>2.81</td>\n",
       "      <td>5.68</td>\n",
       "      <td>1.03</td>\n",
       "      <td>3.17</td>\n",
       "      <td>1185</td>\n",
       "    </tr>\n",
       "    <tr>\n",
       "      <th>3</th>\n",
       "      <td>1</td>\n",
       "      <td>14.37</td>\n",
       "      <td>1.95</td>\n",
       "      <td>2.50</td>\n",
       "      <td>16.8</td>\n",
       "      <td>113</td>\n",
       "      <td>3.85</td>\n",
       "      <td>3.49</td>\n",
       "      <td>0.24</td>\n",
       "      <td>2.18</td>\n",
       "      <td>7.80</td>\n",
       "      <td>0.86</td>\n",
       "      <td>3.45</td>\n",
       "      <td>1480</td>\n",
       "    </tr>\n",
       "    <tr>\n",
       "      <th>4</th>\n",
       "      <td>1</td>\n",
       "      <td>13.24</td>\n",
       "      <td>2.59</td>\n",
       "      <td>2.87</td>\n",
       "      <td>21.0</td>\n",
       "      <td>118</td>\n",
       "      <td>2.80</td>\n",
       "      <td>2.69</td>\n",
       "      <td>0.39</td>\n",
       "      <td>1.82</td>\n",
       "      <td>4.32</td>\n",
       "      <td>1.04</td>\n",
       "      <td>2.93</td>\n",
       "      <td>735</td>\n",
       "    </tr>\n",
       "  </tbody>\n",
       "</table>\n",
       "</div>"
      ],
      "text/plain": [
       "   Class label  Alcohol  Malic acid   Ash  Alcalinity of ash  Magnesium  \\\n",
       "0            1    14.23        1.71  2.43               15.6        127   \n",
       "1            1    13.20        1.78  2.14               11.2        100   \n",
       "2            1    13.16        2.36  2.67               18.6        101   \n",
       "3            1    14.37        1.95  2.50               16.8        113   \n",
       "4            1    13.24        2.59  2.87               21.0        118   \n",
       "\n",
       "   Total phenols  Flavanoids  Nonflavanoid phenols  Proanthocyanins  \\\n",
       "0           2.80        3.06                  0.28             2.29   \n",
       "1           2.65        2.76                  0.26             1.28   \n",
       "2           2.80        3.24                  0.30             2.81   \n",
       "3           3.85        3.49                  0.24             2.18   \n",
       "4           2.80        2.69                  0.39             1.82   \n",
       "\n",
       "   Color intensity   Hue  OD280/OD315 of diluted wines  Proline  \n",
       "0             5.64  1.04                          3.92     1065  \n",
       "1             4.38  1.05                          3.40     1050  \n",
       "2             5.68  1.03                          3.17     1185  \n",
       "3             7.80  0.86                          3.45     1480  \n",
       "4             4.32  1.04                          2.93      735  "
      ]
     },
     "metadata": {},
     "execution_count": 7
    }
   ],
   "metadata": {}
  },
  {
   "cell_type": "markdown",
   "source": [
    "# 数据集划分"
   ],
   "metadata": {}
  },
  {
   "cell_type": "code",
   "execution_count": 8,
   "source": [
    "# 数据集设置：X为样本特征数据，y为目标数据，即标注结果\r\n",
    "X, y = df_wine.iloc[:, 1:].values, df_wine.iloc[:, 0].values"
   ],
   "outputs": [],
   "metadata": {}
  },
  {
   "cell_type": "code",
   "execution_count": 9,
   "source": [
    "# 数据集划分： 将数据集划分为训练集和测试集数据（测试集数据为30%，训练集为70%）\r\n",
    "X_train, X_test, y_train, y_test = train_test_split(\r\n",
    "    X, y, test_size=0.3, stratify=y, random_state=0\r\n",
    ")"
   ],
   "outputs": [],
   "metadata": {}
  },
  {
   "cell_type": "markdown",
   "source": [
    "# 数据标准化"
   ],
   "metadata": {}
  },
  {
   "cell_type": "code",
   "execution_count": 10,
   "source": [
    "# 实例化\r\n",
    "sc = StandardScaler()"
   ],
   "outputs": [],
   "metadata": {}
  },
  {
   "cell_type": "code",
   "execution_count": 11,
   "source": [
    "# 对数据集进行标准化（一般情况下我们在训练集中进行均值和方差的计算，直接在测试集中使用）\r\n",
    "X_train_std = sc.fit_transform(X_train)\r\n",
    "X_test_std = sc.transform(X_test)"
   ],
   "outputs": [],
   "metadata": {}
  },
  {
   "cell_type": "markdown",
   "source": [
    "# PCA(Pricipal component analysis)"
   ],
   "metadata": {}
  },
  {
   "cell_type": "markdown",
   "source": [
    "## PCA实现"
   ],
   "metadata": {}
  },
  {
   "cell_type": "markdown",
   "source": [
    "### 特征值计算"
   ],
   "metadata": {}
  },
  {
   "cell_type": "code",
   "execution_count": 12,
   "source": [
    "# 计算协方差矩阵\r\n",
    "cov_mat = np.cov(X_train_std.T)"
   ],
   "outputs": [],
   "metadata": {}
  },
  {
   "cell_type": "code",
   "execution_count": 13,
   "source": [
    "# 对协方差矩阵进行特征值分解\r\n",
    "eigen_vals, eigen_vecs = np.linalg.eig(cov_mat)"
   ],
   "outputs": [],
   "metadata": {}
  },
  {
   "cell_type": "code",
   "execution_count": 14,
   "source": [
    "# 特征值\r\n",
    "eigen_vals"
   ],
   "outputs": [
    {
     "output_type": "execute_result",
     "data": {
      "text/plain": [
       "array([4.84274532, 2.41602459, 1.54845825, 0.96120438, 0.84166161,\n",
       "       0.6620634 , 0.51828472, 0.34650377, 0.3131368 , 0.10754642,\n",
       "       0.21357215, 0.15362835, 0.1808613 ])"
      ]
     },
     "metadata": {},
     "execution_count": 14
    }
   ],
   "metadata": {}
  },
  {
   "cell_type": "markdown",
   "source": [
    "### 特征值分布"
   ],
   "metadata": {}
  },
  {
   "cell_type": "code",
   "execution_count": 15,
   "source": [
    "# 特征值之和\r\n",
    "tot = sum(eigen_vals)"
   ],
   "outputs": [],
   "metadata": {}
  },
  {
   "cell_type": "code",
   "execution_count": 16,
   "source": [
    "# 对特征进行排序，并计算所占的比例\r\n",
    "var_exp = [(i / tot) for i in sorted(eigen_vals, reverse=True)]"
   ],
   "outputs": [],
   "metadata": {}
  },
  {
   "cell_type": "code",
   "execution_count": 17,
   "source": [
    "# 累计求和\r\n",
    "cum_var_exp = np.cumsum(var_exp)"
   ],
   "outputs": [],
   "metadata": {}
  },
  {
   "cell_type": "code",
   "execution_count": 18,
   "source": [
    "# 绘制图像\r\n",
    "plt.figure()\r\n",
    "plt.bar(range(1, 14), var_exp, alpha=0.5, align=\"center\", label=\"特征值分布\")\r\n",
    "plt.step(range(1, 14), cum_var_exp, where=\"mid\", label=\"累计特征值\")\r\n",
    "plt.ylabel(\"特征值比例\")\r\n",
    "plt.xlabel(\"特征index\")\r\n",
    "plt.legend(loc=\"best\")"
   ],
   "outputs": [
    {
     "output_type": "display_data",
     "data": {
      "application/vnd.jupyter.widget-view+json": {
       "version_major": 2,
       "version_minor": 0,
       "model_id": "77595b1e48bc4e50b39b6f5e2eb3450f"
      },
      "text/plain": [
       "Canvas(toolbar=Toolbar(toolitems=[('Home', 'Reset original view', 'home', 'home'), ('Back', 'Back to previous …"
      ]
     },
     "metadata": {}
    },
    {
     "output_type": "execute_result",
     "data": {
      "text/plain": [
       "<matplotlib.legend.Legend at 0x21fb90f6130>"
      ]
     },
     "metadata": {},
     "execution_count": 18
    }
   ],
   "metadata": {}
  },
  {
   "cell_type": "markdown",
   "source": [
    "### 特征降维"
   ],
   "metadata": {}
  },
  {
   "cell_type": "code",
   "execution_count": 19,
   "source": [
    "# 创建列表，由(eigenvalue, eigenvector)元组构成\r\n",
    "eigen_pairs = [(np.abs(eigen_vals[i]), eigen_vecs[:, i])\r\n",
    "               for i in range(len(eigen_vals))]"
   ],
   "outputs": [],
   "metadata": {}
  },
  {
   "cell_type": "code",
   "execution_count": 20,
   "source": [
    "# 按特征值从大到小对列表(eigenvalue, eigenvector)排序\r\n",
    "eigen_pairs.sort(key=lambda k: k[0], reverse=True)"
   ],
   "outputs": [],
   "metadata": {}
  },
  {
   "cell_type": "code",
   "execution_count": 21,
   "source": [
    "# 特征值与特征向量\r\n",
    "eigen_pairs"
   ],
   "outputs": [
    {
     "output_type": "execute_result",
     "data": {
      "text/plain": [
       "[(4.842745315655896,\n",
       "  array([-0.13724218,  0.24724326, -0.02545159,  0.20694508, -0.15436582,\n",
       "         -0.39376952, -0.41735106,  0.30572896, -0.30668347,  0.07554066,\n",
       "         -0.32613263, -0.36861022, -0.29669651])),\n",
       " (2.4160245870352295,\n",
       "  array([ 0.50303478,  0.16487119,  0.24456476, -0.11352904,  0.28974518,\n",
       "          0.05080104, -0.02287338,  0.09048885,  0.00835233,  0.54977581,\n",
       "         -0.20716433, -0.24902536,  0.38022942])),\n",
       " (1.548458248820353,\n",
       "  array([-0.13774873,  0.09615039,  0.67777567,  0.62504055,  0.19613548,\n",
       "          0.14031057,  0.11705386,  0.13121778,  0.0304309 , -0.07992997,\n",
       "          0.05305915,  0.13239103, -0.07065022])),\n",
       " (0.9612043774977376,\n",
       "  array([-0.0032961 ,  0.56264669, -0.10897711,  0.0338187 , -0.36751107,\n",
       "          0.24024513,  0.1870533 , -0.02292622,  0.49626233,  0.10648294,\n",
       "         -0.36905375,  0.14201609, -0.16768217])),\n",
       " (0.8416616104578413,\n",
       "  array([ 0.29062523, -0.08953787,  0.16083499, -0.05158734, -0.67648707,\n",
       "          0.11851114,  0.10710035,  0.50758161, -0.20163462, -0.00573607,\n",
       "          0.27691422,  0.06662756,  0.12802904])),\n",
       " (0.662063404038304,\n",
       "  array([-2.99096847e-01, -6.27036396e-01, -3.89128239e-04,  4.05836452e-02,\n",
       "         -6.57772614e-02,  5.89776247e-02,  3.01103180e-02,  2.71728086e-01,\n",
       "          4.39997519e-01,  4.11743459e-01, -1.41673377e-01, -1.75842384e-01,\n",
       "         -1.38018388e-01])),\n",
       " (0.5182847213561954,\n",
       "  array([-0.07905293,  0.27400201, -0.13232805, -0.2239991 ,  0.40526897,\n",
       "          0.03474194, -0.04178357,  0.63114569,  0.32312277, -0.26908262,\n",
       "          0.30264066, -0.13054014, -0.00081134])),\n",
       " (0.3465037664128671,\n",
       "  array([ 0.36817641,  0.01257758, -0.17757818,  0.44059211, -0.1166175 ,\n",
       "         -0.35019213, -0.21871818, -0.19712942,  0.43305587,  0.06684118,\n",
       "          0.45976229, -0.11082755, -0.00560817])),\n",
       " (0.31313680047208897,\n",
       "  array([ 0.39837702, -0.11045823, -0.38249686,  0.24337385,  0.25898236,\n",
       "          0.34231286,  0.03612316,  0.17143688, -0.24437021,  0.15551492,\n",
       "         -0.02119612,  0.23808956, -0.51727846])),\n",
       " (0.21357214660527343,\n",
       "  array([ 0.37463888, -0.1374056 ,  0.46158303, -0.41895399,  0.01004706,\n",
       "         -0.22125424, -0.04175136, -0.08875695,  0.19992186, -0.22166887,\n",
       "         -0.09846946,  0.01912058, -0.54253207])),\n",
       " (0.18086130479496612,\n",
       "  array([ 0.26283426, -0.26676921, -0.11554255,  0.19948341,  0.02890188,\n",
       "         -0.06638686, -0.21334908,  0.18639128,  0.16808299, -0.46636903,\n",
       "         -0.53248388,  0.23783528,  0.36776336])),\n",
       " (0.15362835006711023,\n",
       "  array([-0.12783451,  0.08064016,  0.01679249, -0.11084566,  0.07938796,\n",
       "         -0.49145931, -0.0503074 ,  0.17532803, -0.00367596,  0.35975654,\n",
       "          0.04046698,  0.74222954,  0.03873952])),\n",
       " (0.10754642369670976,\n",
       "  array([-0.09448698,  0.02636524,  0.14274751, -0.13048578, -0.06760808,\n",
       "          0.45991766, -0.81458395, -0.09574809,  0.06724689,  0.08733362,\n",
       "          0.12906113,  0.18764627,  0.01211126]))]"
      ]
     },
     "metadata": {},
     "execution_count": 21
    }
   ],
   "metadata": {}
  },
  {
   "cell_type": "code",
   "execution_count": 22,
   "source": [
    "# 取前两个特征值对应的特征向量作为主要成分\r\n",
    "w = np.hstack((eigen_pairs[0][1][:, np.newaxis], eigen_pairs[1][1][:, np.newaxis]))"
   ],
   "outputs": [],
   "metadata": {}
  },
  {
   "cell_type": "code",
   "execution_count": 23,
   "source": [
    "w"
   ],
   "outputs": [
    {
     "output_type": "execute_result",
     "data": {
      "text/plain": [
       "array([[-0.13724218,  0.50303478],\n",
       "       [ 0.24724326,  0.16487119],\n",
       "       [-0.02545159,  0.24456476],\n",
       "       [ 0.20694508, -0.11352904],\n",
       "       [-0.15436582,  0.28974518],\n",
       "       [-0.39376952,  0.05080104],\n",
       "       [-0.41735106, -0.02287338],\n",
       "       [ 0.30572896,  0.09048885],\n",
       "       [-0.30668347,  0.00835233],\n",
       "       [ 0.07554066,  0.54977581],\n",
       "       [-0.32613263, -0.20716433],\n",
       "       [-0.36861022, -0.24902536],\n",
       "       [-0.29669651,  0.38022942]])"
      ]
     },
     "metadata": {},
     "execution_count": 23
    }
   ],
   "metadata": {}
  },
  {
   "cell_type": "code",
   "execution_count": 24,
   "source": [
    "# 原始特征（以第一个样本为例）\r\n",
    "X_train_std[0]"
   ],
   "outputs": [
    {
     "output_type": "execute_result",
     "data": {
      "text/plain": [
       "array([ 0.71225893,  2.22048673, -0.13025864,  0.05962872, -0.50432733,\n",
       "       -0.52831584, -1.24000033,  0.84118003, -1.05215112, -0.29218864,\n",
       "       -0.20017028, -0.82164144, -0.62946362])"
      ]
     },
     "metadata": {},
     "execution_count": 24
    }
   ],
   "metadata": {}
  },
  {
   "cell_type": "code",
   "execution_count": 25,
   "source": [
    "# 特征压缩后结果\r\n",
    "X_train_std[0].dot(w)"
   ],
   "outputs": [
    {
     "output_type": "execute_result",
     "data": {
      "text/plain": [
       "array([2.38299011, 0.45458499])"
      ]
     },
     "metadata": {},
     "execution_count": 25
    }
   ],
   "metadata": {}
  },
  {
   "cell_type": "code",
   "execution_count": 26,
   "source": [
    "# 全部特征压缩\r\n",
    "X_train_pca = X_train_std.dot(w)"
   ],
   "outputs": [],
   "metadata": {}
  },
  {
   "cell_type": "code",
   "execution_count": 27,
   "source": [
    "# 特征压缩后结果展示\r\n",
    "colors = [\"r\", \"b\", \"g\"]\r\n",
    "markers = [\"s\", \"x\", \"o\"]\r\n",
    "\r\n",
    "for l, c, m in zip(np.unique(y_train), colors, markers):\r\n",
    "    # 按照样本的真实值进行展示\r\n",
    "    plt.scatter(\r\n",
    "        X_train_pca[y_train == l, 0],\r\n",
    "        X_train_pca[y_train == l, 1],\r\n",
    "        c=c,\r\n",
    "        label=l,\r\n",
    "        marker=m,\r\n",
    "    )\r\n",
    "\r\n",
    "plt.xlabel(\"PC 1\")\r\n",
    "plt.ylabel(\"PC 2\")\r\n",
    "plt.legend(loc=\"lower left\")\r\n",
    "plt.tight_layout()\r\n",
    "plt.show()"
   ],
   "outputs": [],
   "metadata": {}
  },
  {
   "cell_type": "markdown",
   "source": [
    "## 使用sklearn实现PCA"
   ],
   "metadata": {}
  },
  {
   "cell_type": "markdown",
   "source": [
    "sklearn中提供了进行PCA的API"
   ],
   "metadata": {}
  },
  {
   "cell_type": "markdown",
   "source": [
    "### 特征值计算"
   ],
   "metadata": {}
  },
  {
   "cell_type": "code",
   "execution_count": 28,
   "source": [
    "# 实例化pca，保留所有特征\r\n",
    "pca = PCA()"
   ],
   "outputs": [],
   "metadata": {}
  },
  {
   "cell_type": "code",
   "execution_count": 29,
   "source": [
    "# 特征提取\r\n",
    "X_train_pca = pca.fit_transform(X_train_std)\r\n",
    "# 特征值结果\r\n",
    "pca.explained_variance_ratio_"
   ],
   "outputs": [
    {
     "output_type": "execute_result",
     "data": {
      "text/plain": [
       "array([0.36951469, 0.18434927, 0.11815159, 0.07334252, 0.06422108,\n",
       "       0.05051724, 0.03954654, 0.02643918, 0.02389319, 0.01629614,\n",
       "       0.01380021, 0.01172226, 0.00820609])"
      ]
     },
     "metadata": {},
     "execution_count": 29
    }
   ],
   "metadata": {}
  },
  {
   "cell_type": "code",
   "execution_count": 30,
   "source": [
    "# 特征值绘制\r\n",
    "# 绘制图像\r\n",
    "plt.figure()\r\n",
    "plt.bar(\r\n",
    "    range(1, 14),\r\n",
    "    pca.explained_variance_ratio_,\r\n",
    "    alpha=0.5,\r\n",
    "    align=\"center\",\r\n",
    "    label=\"特征值分布\",\r\n",
    ")\r\n",
    "plt.step(\r\n",
    "    range(1, 14), np.cumsum(pca.explained_variance_ratio_), where=\"mid\", label=\"累计特征值\"\r\n",
    ")\r\n",
    "plt.ylabel(\"特征值比例\")\r\n",
    "plt.xlabel(\"特征index\")\r\n",
    "plt.legend(loc=\"best\")"
   ],
   "outputs": [
    {
     "output_type": "display_data",
     "data": {
      "application/vnd.jupyter.widget-view+json": {
       "version_major": 2,
       "version_minor": 0,
       "model_id": "c1584474679945f0a79cea79efcd9067"
      },
      "text/plain": [
       "Canvas(toolbar=Toolbar(toolitems=[('Home', 'Reset original view', 'home', 'home'), ('Back', 'Back to previous …"
      ]
     },
     "metadata": {}
    },
    {
     "output_type": "execute_result",
     "data": {
      "text/plain": [
       "<matplotlib.legend.Legend at 0x21fba0cc6d0>"
      ]
     },
     "metadata": {},
     "execution_count": 30
    }
   ],
   "metadata": {}
  },
  {
   "cell_type": "markdown",
   "source": [
    "### 特征降维"
   ],
   "metadata": {}
  },
  {
   "cell_type": "code",
   "execution_count": 31,
   "source": [
    "# 压缩到二维特征\r\n",
    "pca = PCA(n_components=2)"
   ],
   "outputs": [],
   "metadata": {}
  },
  {
   "cell_type": "code",
   "execution_count": 32,
   "source": [
    "# 对训练数据进行处理\r\n",
    "X_train_pca = pca.fit_transform(X_train_std)"
   ],
   "outputs": [],
   "metadata": {}
  },
  {
   "cell_type": "code",
   "execution_count": 33,
   "source": [
    "# 特征值结果(只保留两个特征)\r\n",
    "print(pca.explained_variance_ratio_)"
   ],
   "outputs": [
    {
     "output_type": "stream",
     "name": "stdout",
     "text": [
      "[0.36951469 0.18434927]\n"
     ]
    }
   ],
   "metadata": {}
  },
  {
   "cell_type": "code",
   "execution_count": 34,
   "source": [
    "# 对测试集数据进行处理\r\n",
    "X_test_pca = pca.transform(X_test_std)"
   ],
   "outputs": [],
   "metadata": {}
  },
  {
   "cell_type": "code",
   "execution_count": 35,
   "source": [
    "# 特征降维后结果展示\r\n",
    "colors = [\"r\", \"b\", \"g\"]\r\n",
    "markers = [\"s\", \"x\", \"o\"]\r\n",
    "\r\n",
    "for l, c, m in zip(np.unique(y_train), colors, markers):\r\n",
    "    # 按照样本的真实值进行展示\r\n",
    "    plt.scatter(\r\n",
    "        X_train_pca[y_train == l, 0],\r\n",
    "        X_train_pca[y_train == l, 1],\r\n",
    "        c=c,\r\n",
    "        label=l,\r\n",
    "        marker=m,\r\n",
    "    )\r\n",
    "\r\n",
    "plt.xlabel(\"PC 1\")\r\n",
    "plt.ylabel(\"PC 2\")\r\n",
    "plt.legend(loc=\"lower left\")\r\n",
    "plt.tight_layout()\r\n",
    "plt.show()"
   ],
   "outputs": [],
   "metadata": {}
  },
  {
   "cell_type": "markdown",
   "source": [
    "## 利用逻辑回归进行分类"
   ],
   "metadata": {}
  },
  {
   "cell_type": "markdown",
   "source": [
    "### 绘制函数"
   ],
   "metadata": {}
  },
  {
   "cell_type": "code",
   "execution_count": 36,
   "source": [
    "# 绘制样本及其目标值\r\n",
    "def plot_decision_regions(X, y, classifier, resolution=0.02):\r\n",
    "    \"\"\"\r\n",
    "    X:样本特征值\r\n",
    "    y:目标值\r\n",
    "    classifier: 分类器\r\n",
    "    \"\"\"\r\n",
    "    # 设置图像的标记及颜色\r\n",
    "    markers = ('s', 'x', 'o', '^', 'v')\r\n",
    "    colors = ('red', 'blue', 'lightgreen', 'gray', 'cyan')\r\n",
    "    cmap = ListedColormap(colors[:len(np.unique(y))])\r\n",
    "\r\n",
    "    # 利用样本点创建meshgrid\r\n",
    "    x1_min, x1_max = X[:, 0].min() - 1, X[:, 0].max() + 1\r\n",
    "    x2_min, x2_max = X[:, 1].min() - 1, X[:, 1].max() + 1\r\n",
    "    xx1, xx2 = np.meshgrid(np.arange(x1_min, x1_max, resolution),\r\n",
    "                           np.arange(x2_min, x2_max, resolution))\r\n",
    "    # 预测结果\r\n",
    "    Z = classifier.predict(np.array([xx1.ravel(), xx2.ravel()]).T)\r\n",
    "    Z = Z.reshape(xx1.shape)\r\n",
    "    # 绘制预测结果的等高线\r\n",
    "    plt.contourf(xx1, xx2, Z, alpha=0.4, cmap=cmap)\r\n",
    "    plt.xlim(xx1.min(), xx1.max())\r\n",
    "    plt.ylim(xx2.min(), xx2.max())\r\n",
    "\r\n",
    "    # 绘制样本点,并根据真实值进行着色\r\n",
    "    for idx, cl in enumerate(np.unique(y)):\r\n",
    "        # 绘制散点图\r\n",
    "        plt.scatter(x=X[y == cl, 0], \r\n",
    "                    y=X[y == cl, 1],\r\n",
    "                    alpha=0.6, \r\n",
    "                    c=cmap(idx),\r\n",
    "                    edgecolor='black',\r\n",
    "                    marker=markers[idx], \r\n",
    "                    label=cl)"
   ],
   "outputs": [],
   "metadata": {}
  },
  {
   "cell_type": "markdown",
   "source": [
    "### PCA特征降维"
   ],
   "metadata": {}
  },
  {
   "cell_type": "code",
   "execution_count": 37,
   "source": [
    "# 利用PCA进行特征降维(提取)\r\n",
    "# 保留两维特征\r\n",
    "pca = PCA(n_components=2)\r\n",
    "# 训练集数据处理\r\n",
    "X_train_pca = pca.fit_transform(X_train_std)\r\n",
    "# 测试集数据处理\r\n",
    "X_test_pca = pca.transform(X_test_std)"
   ],
   "outputs": [],
   "metadata": {}
  },
  {
   "cell_type": "markdown",
   "source": [
    "### LR分类器"
   ],
   "metadata": {}
  },
  {
   "cell_type": "code",
   "execution_count": 38,
   "source": [
    "# 实例化\r\n",
    "lr = LogisticRegression()\r\n",
    "# 模型训练\r\n",
    "lr = lr.fit(X_train_pca, y_train)"
   ],
   "outputs": [],
   "metadata": {}
  },
  {
   "cell_type": "markdown",
   "source": [
    "### 训练数据结果"
   ],
   "metadata": {}
  },
  {
   "cell_type": "code",
   "execution_count": 39,
   "source": [
    "plot_decision_regions(X_train_pca, y_train, classifier=lr)\r\n",
    "plt.xlabel('PC 1')\r\n",
    "plt.ylabel('PC 2')\r\n",
    "plt.legend(loc='lower left')\r\n",
    "plt.tight_layout()\r\n",
    "plt.show()"
   ],
   "outputs": [
    {
     "output_type": "stream",
     "name": "stderr",
     "text": [
      "*c* argument looks like a single numeric RGB or RGBA sequence, which should be avoided as value-mapping will have precedence in case its length matches with *x* & *y*.  Please use the *color* keyword-argument or provide a 2-D array with a single row if you intend to specify the same RGB or RGBA value for all points.\n",
      "*c* argument looks like a single numeric RGB or RGBA sequence, which should be avoided as value-mapping will have precedence in case its length matches with *x* & *y*.  Please use the *color* keyword-argument or provide a 2-D array with a single row if you intend to specify the same RGB or RGBA value for all points.\n",
      "*c* argument looks like a single numeric RGB or RGBA sequence, which should be avoided as value-mapping will have precedence in case its length matches with *x* & *y*.  Please use the *color* keyword-argument or provide a 2-D array with a single row if you intend to specify the same RGB or RGBA value for all points.\n"
     ]
    }
   ],
   "metadata": {}
  },
  {
   "cell_type": "markdown",
   "source": [
    "### 测试数据结果"
   ],
   "metadata": {}
  },
  {
   "cell_type": "code",
   "execution_count": 40,
   "source": [
    "plot_decision_regions(X_test_pca, y_test, classifier=lr)\r\n",
    "plt.xlabel('PC 1')\r\n",
    "plt.ylabel('PC 2')\r\n",
    "plt.legend(loc='lower left')\r\n",
    "plt.tight_layout()\r\n",
    "plt.show()"
   ],
   "outputs": [
    {
     "output_type": "stream",
     "name": "stderr",
     "text": [
      "*c* argument looks like a single numeric RGB or RGBA sequence, which should be avoided as value-mapping will have precedence in case its length matches with *x* & *y*.  Please use the *color* keyword-argument or provide a 2-D array with a single row if you intend to specify the same RGB or RGBA value for all points.\n",
      "*c* argument looks like a single numeric RGB or RGBA sequence, which should be avoided as value-mapping will have precedence in case its length matches with *x* & *y*.  Please use the *color* keyword-argument or provide a 2-D array with a single row if you intend to specify the same RGB or RGBA value for all points.\n",
      "*c* argument looks like a single numeric RGB or RGBA sequence, which should be avoided as value-mapping will have precedence in case its length matches with *x* & *y*.  Please use the *color* keyword-argument or provide a 2-D array with a single row if you intend to specify the same RGB or RGBA value for all points.\n"
     ]
    }
   ],
   "metadata": {}
  },
  {
   "cell_type": "markdown",
   "source": [
    "# LDA(Linear discriminant analysis)"
   ],
   "metadata": {}
  },
  {
   "cell_type": "markdown",
   "source": [
    "## LDA实现"
   ],
   "metadata": {}
  },
  {
   "cell_type": "code",
   "execution_count": 41,
   "source": [
    "# 精度设置,浮点数\n",
    "np.set_printoptions(precision=4)"
   ],
   "outputs": [],
   "metadata": {}
  },
  {
   "cell_type": "markdown",
   "source": [
    "### 平均向量"
   ],
   "metadata": {}
  },
  {
   "cell_type": "code",
   "execution_count": 42,
   "source": [
    "# 计算每一类数据的平均向量\n",
    "mean_vecs = []\n",
    "for label in range(1, 4):\n",
    "    mean_vecs.append(np.mean(X_train_std[y_train == label], axis=0))\n",
    "    print('MV %s: %s\\n' % (label, mean_vecs[label - 1]))"
   ],
   "outputs": [
    {
     "output_type": "stream",
     "name": "stdout",
     "text": [
      "MV 1: [ 0.9066 -0.3497  0.3201 -0.7189  0.5056  0.8807  0.9589 -0.5516  0.5416\n",
      "  0.2338  0.5897  0.6563  1.2075]\n",
      "\n",
      "MV 2: [-0.8749 -0.2848 -0.3735  0.3157 -0.3848 -0.0433  0.0635 -0.0946  0.0703\n",
      " -0.8286  0.3144  0.3608 -0.7253]\n",
      "\n",
      "MV 3: [ 0.1992  0.866   0.1682  0.4148 -0.0451 -1.0286 -1.2876  0.8287 -0.7795\n",
      "  0.9649 -1.209  -1.3622 -0.4013]\n",
      "\n"
     ]
    }
   ],
   "metadata": {}
  },
  {
   "cell_type": "markdown",
   "source": [
    "### 类内散度矩阵Sw"
   ],
   "metadata": {}
  },
  {
   "cell_type": "code",
   "execution_count": 43,
   "source": [
    "# 特征维度\n",
    "d = 13 \n",
    "S_W = np.zeros((d, d))\n",
    "# 获取每个类别的平均值向量\n",
    "for label, mv in zip(range(1, 4), mean_vecs):\n",
    "    # 每一类别的散度矩阵\n",
    "    class_scatter = np.zeros((d, d))  \n",
    "    for row in X_train_std[y_train == label]:\n",
    "        # 列向量\n",
    "        row, mv = row.reshape(d, 1), mv.reshape(d, 1) \n",
    "        class_scatter += (row - mv).dot((row - mv).T)\n",
    "    # 每个类别散度矩阵之和\n",
    "    S_W += class_scatter                         "
   ],
   "outputs": [],
   "metadata": {}
  },
  {
   "cell_type": "markdown",
   "source": [
    "### 类间散度矩阵SB"
   ],
   "metadata": {}
  },
  {
   "cell_type": "code",
   "execution_count": 44,
   "source": [
    "# 全局平均值\n",
    "mean_overall = np.mean(X_train_std, axis=0)\n",
    "# 特征维度\n",
    "d = 13  \n",
    "S_B = np.zeros((d, d))\n",
    "# 获取每个类别的平均值\n",
    "for i, mean_vec in enumerate(mean_vecs):\n",
    "    n = X_train[y_train == i + 1, :].shape[0]\n",
    "    # 列向量\n",
    "    mean_vec = mean_vec.reshape(d, 1)  \n",
    "    mean_overall = mean_overall.reshape(d, 1)  \n",
    "    # 类间散度矩阵\n",
    "    S_B += n * (mean_vec - mean_overall).dot((mean_vec - mean_overall).T)"
   ],
   "outputs": [],
   "metadata": {}
  },
  {
   "cell_type": "markdown",
   "source": [
    "### 特征值计算"
   ],
   "metadata": {}
  },
  {
   "cell_type": "markdown",
   "source": [
    "求解矩阵 $S_W^{-1}S_B$的特征值和特征向量"
   ],
   "metadata": {}
  },
  {
   "cell_type": "code",
   "execution_count": 45,
   "source": [
    "# 计算LDA的特征值\n",
    "eigen_vals, eigen_vecs = np.linalg.eig(np.linalg.inv(S_W).dot(S_B))"
   ],
   "outputs": [],
   "metadata": {}
  },
  {
   "cell_type": "code",
   "execution_count": 46,
   "source": [
    "eigen_vals"
   ],
   "outputs": [
    {
     "output_type": "execute_result",
     "data": {
      "text/plain": [
       "array([ 0.0000e+00+0.0000e+00j,  4.2257e+00+0.0000e+00j,\n",
       "        8.2625e+00+0.0000e+00j, -6.5355e-17+7.1612e-16j,\n",
       "       -6.5355e-17-7.1612e-16j, -6.0003e-16+0.0000e+00j,\n",
       "        4.4049e-16+2.6074e-16j,  4.4049e-16-2.6074e-16j,\n",
       "        3.5056e-16+0.0000e+00j, -1.4204e-16+0.0000e+00j,\n",
       "        1.2511e-16+1.1057e-16j,  1.2511e-16-1.1057e-16j,\n",
       "       -1.0270e-17+0.0000e+00j])"
      ]
     },
     "metadata": {},
     "execution_count": 46
    }
   ],
   "metadata": {}
  },
  {
   "cell_type": "markdown",
   "source": [
    "### 特征值分布"
   ],
   "metadata": {}
  },
  {
   "cell_type": "code",
   "execution_count": 47,
   "source": [
    "# 创建由特征值和特征向量组成的list\n",
    "eigen_pairs = [(np.abs(eigen_vals[i]), eigen_vecs[:, i])\n",
    "               for i in range(len(eigen_vals))]\n",
    "\n",
    "# 根据特征值从大到小排序(eigenvalue, eigenvector)\n",
    "eigen_pairs = sorted(eigen_pairs, key=lambda k: k[0], reverse=True)\n",
    "\n",
    "# 特征值结果\n",
    "for eigen_val in eigen_pairs:\n",
    "    print(eigen_val[0])"
   ],
   "outputs": [
    {
     "output_type": "stream",
     "name": "stdout",
     "text": [
      "8.262493673957481\n",
      "4.225659486916682\n",
      "7.190993296157536e-16\n",
      "7.190993296157536e-16\n",
      "6.000334073858813e-16\n",
      "5.1187570513338645e-16\n",
      "5.1187570513338645e-16\n",
      "3.505556983142276e-16\n",
      "1.6697077996802437e-16\n",
      "1.6697077996802437e-16\n",
      "1.4204403221246673e-16\n",
      "1.0269898810321967e-17\n",
      "0.0\n"
     ]
    }
   ],
   "metadata": {}
  },
  {
   "cell_type": "code",
   "execution_count": 48,
   "source": [
    "# 实部求和\n",
    "tot = sum(eigen_vals.real)\n",
    "# 计算比例\n",
    "discr = [(i / tot) for i in sorted(eigen_vals.real, reverse=True)]\n",
    "# 累计求和\n",
    "cum_discr = np.cumsum(discr)\n",
    "\n",
    "plt.bar(range(1, 14), discr, alpha=0.5, align='center',\n",
    "        label='\"区分度\"分布')\n",
    "plt.step(range(1, 14), cum_discr, where='mid',\n",
    "         label='累计\"区分度\"')\n",
    "plt.ylabel('\"区分度\" 比例')\n",
    "plt.xlabel('特征维度')\n",
    "plt.ylim([-0.1, 1.1])\n",
    "plt.legend(loc='best')\n",
    "plt.show()"
   ],
   "outputs": [],
   "metadata": {}
  },
  {
   "cell_type": "markdown",
   "source": [
    "### 特征降维"
   ],
   "metadata": {}
  },
  {
   "cell_type": "code",
   "execution_count": 49,
   "source": [
    "# 保留两维特征\n",
    "w = np.hstack((eigen_pairs[0][1][:, np.newaxis].real,\n",
    "              eigen_pairs[1][1][:, np.newaxis].real))"
   ],
   "outputs": [],
   "metadata": {}
  },
  {
   "cell_type": "code",
   "execution_count": 50,
   "source": [
    "w"
   ],
   "outputs": [
    {
     "output_type": "execute_result",
     "data": {
      "text/plain": [
       "array([[-0.1586, -0.4077],\n",
       "       [ 0.0984, -0.1821],\n",
       "       [-0.0156, -0.3473],\n",
       "       [ 0.1588,  0.3095],\n",
       "       [-0.0207, -0.064 ],\n",
       "       [ 0.1884,  0.0733],\n",
       "       [-0.7153,  0.3034],\n",
       "       [-0.0798, -0.0009],\n",
       "       [ 0.0074,  0.0716],\n",
       "       [ 0.3448, -0.2808],\n",
       "       [-0.0254,  0.244 ],\n",
       "       [-0.3192, -0.0459],\n",
       "       [-0.4054, -0.5806]])"
      ]
     },
     "metadata": {},
     "execution_count": 50
    }
   ],
   "metadata": {}
  },
  {
   "cell_type": "code",
   "execution_count": 51,
   "source": [
    "# 特征降维\n",
    "X_train_lda = X_train_std.dot(w)"
   ],
   "outputs": [],
   "metadata": {}
  },
  {
   "cell_type": "code",
   "execution_count": 52,
   "source": [
    "# 降维前\n",
    "X_test_std[0]"
   ],
   "outputs": [
    {
     "output_type": "execute_result",
     "data": {
      "text/plain": [
       "array([ 0.8944, -0.3881,  1.1007, -0.812 ,  1.132 ,  1.0981,  0.712 ,\n",
       "        0.181 ,  0.0663,  0.5129,  0.7963,  0.4483,  1.9059])"
      ]
     },
     "metadata": {},
     "execution_count": 52
    }
   ],
   "metadata": {}
  },
  {
   "cell_type": "code",
   "execution_count": 53,
   "source": [
    "# 降维后\n",
    "X_train_lda[0]"
   ],
   "outputs": [
    {
     "output_type": "execute_result",
     "data": {
      "text/plain": [
       "array([ 1.2617, -0.6537])"
      ]
     },
     "metadata": {},
     "execution_count": 53
    }
   ],
   "metadata": {}
  },
  {
   "cell_type": "code",
   "execution_count": 54,
   "source": [
    "# 结果绘制\n",
    "colors = ['r', 'b', 'g']\n",
    "markers = ['s', 'x', 'o']\n",
    "\n",
    "for l, c, m in zip(np.unique(y_train), colors, markers):\n",
    "    plt.scatter(X_train_lda[y_train == l, 0],\n",
    "                X_train_lda[y_train == l, 1] * (-1),\n",
    "                c=c, label=l, marker=m)\n",
    "\n",
    "plt.xlabel('LD 1')\n",
    "plt.ylabel('LD 2')\n",
    "plt.legend(loc='lower right')\n",
    "plt.show()"
   ],
   "outputs": [],
   "metadata": {}
  },
  {
   "cell_type": "markdown",
   "source": [
    "## 使用sklearn实现LDA并进行LR分类"
   ],
   "metadata": {}
  },
  {
   "cell_type": "code",
   "execution_count": 55,
   "source": [
    "from sklearn.discriminant_analysis import LinearDiscriminantAnalysis as LDA\n",
    "# 实例化\n",
    "lda = LDA(n_components=2)"
   ],
   "outputs": [],
   "metadata": {}
  },
  {
   "cell_type": "code",
   "execution_count": 56,
   "source": [
    "# 对训练数据进行LDA处理\n",
    "X_train_lda = lda.fit_transform(X_train_std, y_train)"
   ],
   "outputs": [],
   "metadata": {}
  },
  {
   "cell_type": "code",
   "execution_count": 57,
   "source": [
    "X_train_lda[0]"
   ],
   "outputs": [
    {
     "output_type": "execute_result",
     "data": {
      "text/plain": [
       "array([-2.9646,  1.157 ])"
      ]
     },
     "metadata": {},
     "execution_count": 57
    }
   ],
   "metadata": {}
  },
  {
   "cell_type": "code",
   "execution_count": 58,
   "source": [
    "# 实例化逻辑回归\n",
    "lr = LogisticRegression()\n",
    "# 训练\n",
    "lr = lr.fit(X_train_lda, y_train)"
   ],
   "outputs": [],
   "metadata": {}
  },
  {
   "cell_type": "code",
   "execution_count": 59,
   "source": [
    "# 训练数据结果\n",
    "plot_decision_regions(X_train_lda, y_train, classifier=lr)\n",
    "plt.xlabel('LD 1')\n",
    "plt.ylabel('LD 2')\n",
    "plt.legend(loc='lower left')\n",
    "plt.tight_layout()\n",
    "plt.show()"
   ],
   "outputs": [
    {
     "output_type": "stream",
     "name": "stderr",
     "text": [
      "*c* argument looks like a single numeric RGB or RGBA sequence, which should be avoided as value-mapping will have precedence in case its length matches with *x* & *y*.  Please use the *color* keyword-argument or provide a 2-D array with a single row if you intend to specify the same RGB or RGBA value for all points.\n",
      "*c* argument looks like a single numeric RGB or RGBA sequence, which should be avoided as value-mapping will have precedence in case its length matches with *x* & *y*.  Please use the *color* keyword-argument or provide a 2-D array with a single row if you intend to specify the same RGB or RGBA value for all points.\n",
      "*c* argument looks like a single numeric RGB or RGBA sequence, which should be avoided as value-mapping will have precedence in case its length matches with *x* & *y*.  Please use the *color* keyword-argument or provide a 2-D array with a single row if you intend to specify the same RGB or RGBA value for all points.\n"
     ]
    }
   ],
   "metadata": {}
  },
  {
   "cell_type": "code",
   "execution_count": 60,
   "source": [
    "# 测试数据结果\n",
    "X_test_lda = lda.transform(X_test_std)\n",
    "\n",
    "plot_decision_regions(X_test_lda, y_test, classifier=lr)\n",
    "plt.xlabel('LD 1')\n",
    "plt.ylabel('LD 2')\n",
    "plt.legend(loc='lower left')\n",
    "plt.tight_layout()\n",
    "plt.show()"
   ],
   "outputs": [
    {
     "output_type": "stream",
     "name": "stderr",
     "text": [
      "*c* argument looks like a single numeric RGB or RGBA sequence, which should be avoided as value-mapping will have precedence in case its length matches with *x* & *y*.  Please use the *color* keyword-argument or provide a 2-D array with a single row if you intend to specify the same RGB or RGBA value for all points.\n",
      "*c* argument looks like a single numeric RGB or RGBA sequence, which should be avoided as value-mapping will have precedence in case its length matches with *x* & *y*.  Please use the *color* keyword-argument or provide a 2-D array with a single row if you intend to specify the same RGB or RGBA value for all points.\n",
      "*c* argument looks like a single numeric RGB or RGBA sequence, which should be avoided as value-mapping will have precedence in case its length matches with *x* & *y*.  Please use the *color* keyword-argument or provide a 2-D array with a single row if you intend to specify the same RGB or RGBA value for all points.\n"
     ]
    }
   ],
   "metadata": {}
  },
  {
   "cell_type": "markdown",
   "source": [
    "# kernel PCA "
   ],
   "metadata": {}
  },
  {
   "cell_type": "markdown",
   "source": [
    "对于线性不可分的数据,在降维时可以使用带核函数的PCA"
   ],
   "metadata": {}
  },
  {
   "cell_type": "code",
   "execution_count": 61,
   "source": [
    "from sklearn.decomposition import KernelPCA\n",
    "from sklearn.datasets import make_moons\n",
    "# 数据生成\n",
    "X, y = make_moons(n_samples=100, random_state=123)\n",
    "# 实例化\n",
    "scikit_kpca = KernelPCA(n_components=2, kernel='rbf', gamma=15)\n",
    "# 数据处理\n",
    "X_skernpca = scikit_kpca.fit_transform(X)\n",
    "# 结果绘制\n",
    "fig, ax = plt.subplots(nrows=1, ncols=2, figsize=(7, 3))\n",
    "ax[0].scatter(X[:,0],X[:,1],marker='o',c=y) \n",
    "\n",
    "ax[1].scatter(X_skernpca[y == 0, 0], X_skernpca[y == 0, 1],\n",
    "            color='red', marker='^', alpha=0.5)\n",
    "ax[1].scatter(X_skernpca[y == 1, 0], X_skernpca[y == 1, 1],\n",
    "            color='blue', marker='o', alpha=0.5)\n",
    "\n",
    "plt.xlabel('PC1')\n",
    "plt.ylabel('PC2')\n",
    "plt.show()"
   ],
   "outputs": [
    {
     "output_type": "display_data",
     "data": {
      "application/vnd.jupyter.widget-view+json": {
       "version_major": 2,
       "version_minor": 0,
       "model_id": "032938c4c4c140f8acda72501736dd7f"
      },
      "text/plain": [
       "Canvas(toolbar=Toolbar(toolitems=[('Home', 'Reset original view', 'home', 'home'), ('Back', 'Back to previous …"
      ]
     },
     "metadata": {}
    }
   ],
   "metadata": {}
  },
  {
   "cell_type": "code",
   "execution_count": null,
   "source": [],
   "outputs": [],
   "metadata": {}
  }
 ],
 "metadata": {
  "kernelspec": {
   "name": "python3",
   "display_name": "Python 3.8.11 64-bit"
  },
  "language_info": {
   "codemirror_mode": {
    "name": "ipython",
    "version": 3
   },
   "file_extension": ".py",
   "mimetype": "text/x-python",
   "name": "python",
   "nbconvert_exporter": "python",
   "pygments_lexer": "ipython3",
   "version": "3.8.11"
  },
  "toc": {
   "base_numbering": 1,
   "nav_menu": {},
   "number_sections": true,
   "sideBar": true,
   "skip_h1_title": false,
   "title_cell": "Table of Contents",
   "title_sidebar": "Contents",
   "toc_cell": false,
   "toc_position": {
    "height": "calc(100% - 180px)",
    "left": "10px",
    "top": "150px",
    "width": "274px"
   },
   "toc_section_display": true,
   "toc_window_display": true
  },
  "interpreter": {
   "hash": "c51d22a6e700603606d0eacc0072ee59cf10084b737a530df8cd1ae37f92a519"
  }
 },
 "nbformat": 4,
 "nbformat_minor": 2
}