{
 "cells": [
  {
   "cell_type": "code",
   "execution_count": 7,
   "metadata": {
    "execution": {
     "iopub.execute_input": "2021-07-25T17:15:01.832898Z",
     "iopub.status.busy": "2021-07-25T17:15:01.832898Z",
     "iopub.status.idle": "2021-07-25T17:15:02.227957Z",
     "shell.execute_reply": "2021-07-25T17:15:02.227957Z",
     "shell.execute_reply.started": "2021-07-25T17:15:01.832898Z"
    }
   },
   "outputs": [],
   "source": [
    "import numpy as np\n",
    "import matplotlib.pyplot as plt\n",
    "import glob\n",
    "import os\n",
    "import scipy.io as sio\n",
    "%matplotlib Widget"
   ]
  },
  {
   "cell_type": "code",
   "execution_count": 8,
   "metadata": {
    "execution": {
     "iopub.execute_input": "2021-07-25T17:15:02.228958Z",
     "iopub.status.busy": "2021-07-25T17:15:02.228958Z",
     "iopub.status.idle": "2021-07-25T17:15:02.243921Z",
     "shell.execute_reply": "2021-07-25T17:15:02.243921Z",
     "shell.execute_reply.started": "2021-07-25T17:15:02.228958Z"
    }
   },
   "outputs": [],
   "source": [
    "plt.rcParams[\"font.sans-serif\"] = \"SimHei\"\n",
    "plt.rcParams[\"axes.unicode_minus\"] = False"
   ]
  },
  {
   "cell_type": "markdown",
   "metadata": {},
   "source": [
    "# K-means聚类"
   ]
  },
  {
   "cell_type": "markdown",
   "metadata": {},
   "source": [
    "## 读取数据"
   ]
  },
  {
   "cell_type": "code",
   "execution_count": 9,
   "metadata": {
    "execution": {
     "iopub.execute_input": "2021-07-25T17:15:02.246921Z",
     "iopub.status.busy": "2021-07-25T17:15:02.245915Z",
     "iopub.status.idle": "2021-07-25T17:15:02.384099Z",
     "shell.execute_reply": "2021-07-25T17:15:02.384099Z",
     "shell.execute_reply.started": "2021-07-25T17:15:02.246921Z"
    }
   },
   "outputs": [
    {
     "data": {
      "application/vnd.jupyter.widget-view+json": {
       "model_id": "51724a7715e54188b8de6f7cf6ac2776",
       "version_major": 2,
       "version_minor": 0
      },
      "text/plain": [
       "Canvas(toolbar=Toolbar(toolitems=[('Home', 'Reset original view', 'home', 'home'), ('Back', 'Back to previous …"
      ]
     },
     "metadata": {},
     "output_type": "display_data"
    }
   ],
   "source": [
    "paths = glob.glob(\"../Coursera-ML-AndrewNg-master/*kmeans*/data/*.mat\")\n",
    "data = sio.loadmat(paths[2])\n",
    "keys = list(data.keys())\n",
    "datax = data[keys[-1]]\n",
    "plt.close(1)\n",
    "plt.figure()\n",
    "plt.scatter(datax[:, 0], datax[:, 1], s=10)\n",
    "plt.show()"
   ]
  },
  {
   "cell_type": "markdown",
   "metadata": {},
   "source": [
    "## 初始化样本类别"
   ]
  },
  {
   "cell_type": "code",
   "execution_count": 10,
   "metadata": {
    "execution": {
     "iopub.execute_input": "2021-07-25T17:15:02.386097Z",
     "iopub.status.busy": "2021-07-25T17:15:02.386097Z",
     "iopub.status.idle": "2021-07-25T17:15:02.400060Z",
     "shell.execute_reply": "2021-07-25T17:15:02.400060Z",
     "shell.execute_reply.started": "2021-07-25T17:15:02.386097Z"
    }
   },
   "outputs": [],
   "source": [
    "def initCluster(x, pivot):\n",
    "    \"\"\"初始化样本类别\n",
    "\n",
    "    Parameters\n",
    "    ----------\n",
    "    x : ndarray\n",
    "        输入样本\n",
    "    pivot : ndarray\n",
    "        聚类中心\n",
    "\n",
    "    Returns\n",
    "    -------\n",
    "    idx : ndarray\n",
    "        返回最小距离的pivot索引\n",
    "    \"\"\"    \n",
    "    idx = list()\n",
    "    for i in range(len(x)):\n",
    "        dist = np.linalg.norm(x[i] - pivot, axis=1) # 计算样本到聚类中心的欧氏距离\n",
    "        idx.append(np.argmin(dist)) # 赋予类别\n",
    "    return np.array(idx)"
   ]
  },
  {
   "cell_type": "markdown",
   "metadata": {},
   "source": [
    "## 更新聚类中心点"
   ]
  },
  {
   "cell_type": "code",
   "execution_count": 11,
   "metadata": {
    "execution": {
     "iopub.execute_input": "2021-07-25T17:15:02.402056Z",
     "iopub.status.busy": "2021-07-25T17:15:02.402056Z",
     "iopub.status.idle": "2021-07-25T17:15:02.416018Z",
     "shell.execute_reply": "2021-07-25T17:15:02.416018Z",
     "shell.execute_reply.started": "2021-07-25T17:15:02.402056Z"
    }
   },
   "outputs": [],
   "source": [
    "def meansPivot(x, idx, pivot):\n",
    "    for i in range(pivot.shape[0]):\n",
    "        pivot[i] = np.mean(x[idx == i], axis=0)\n",
    "    return pivot"
   ]
  },
  {
   "cell_type": "markdown",
   "metadata": {},
   "source": [
    "## 遴选聚类中心点"
   ]
  },
  {
   "cell_type": "code",
   "execution_count": 12,
   "metadata": {
    "execution": {
     "iopub.execute_input": "2021-07-25T17:15:02.417014Z",
     "iopub.status.busy": "2021-07-25T17:15:02.417014Z",
     "iopub.status.idle": "2021-07-25T17:15:02.728620Z",
     "shell.execute_reply": "2021-07-25T17:15:02.727619Z",
     "shell.execute_reply.started": "2021-07-25T17:15:02.417014Z"
    }
   },
   "outputs": [],
   "source": [
    "k = np.random.choice(datax.shape[0], 3, replace=False)\n",
    "pivot = datax[k]\n",
    "iters = 100\n",
    "for _ in range(iters):\n",
    "    idx = initCluster(datax, pivot)\n",
    "    meansPivot(datax, idx, pivot)"
   ]
  },
  {
   "cell_type": "markdown",
   "metadata": {},
   "source": [
    "## 聚类结果"
   ]
  },
  {
   "cell_type": "code",
   "execution_count": 13,
   "metadata": {
    "execution": {
     "iopub.execute_input": "2021-07-25T17:15:02.729616Z",
     "iopub.status.busy": "2021-07-25T17:15:02.729616Z",
     "iopub.status.idle": "2021-07-25T17:15:02.853286Z",
     "shell.execute_reply": "2021-07-25T17:15:02.853286Z",
     "shell.execute_reply.started": "2021-07-25T17:15:02.729616Z"
    }
   },
   "outputs": [
    {
     "data": {
      "application/vnd.jupyter.widget-view+json": {
       "model_id": "d530d07de01a4a5cac4cc7cb30129aec",
       "version_major": 2,
       "version_minor": 0
      },
      "text/plain": [
       "Canvas(toolbar=Toolbar(toolitems=[('Home', 'Reset original view', 'home', 'home'), ('Back', 'Back to previous …"
      ]
     },
     "metadata": {},
     "output_type": "display_data"
    },
    {
     "data": {
      "text/plain": [
       "<matplotlib.collections.PathCollection at 0x24f67e63d60>"
      ]
     },
     "execution_count": 13,
     "metadata": {},
     "output_type": "execute_result"
    }
   ],
   "source": [
    "plt.close(2)\n",
    "plt.figure()\n",
    "plt.scatter(datax[:, 0], datax[:, 1], c=idx, s=10, cmap=\"rainbow\")"
   ]
  },
  {
   "cell_type": "markdown",
   "metadata": {},
   "source": [
    "## 读取图片"
   ]
  },
  {
   "cell_type": "code",
   "execution_count": 14,
   "metadata": {
    "execution": {
     "iopub.execute_input": "2021-07-25T17:15:02.854284Z",
     "iopub.status.busy": "2021-07-25T17:15:02.854284Z",
     "iopub.status.idle": "2021-07-25T17:15:02.948033Z",
     "shell.execute_reply": "2021-07-25T17:15:02.948033Z",
     "shell.execute_reply.started": "2021-07-25T17:15:02.854284Z"
    }
   },
   "outputs": [
    {
     "data": {
      "application/vnd.jupyter.widget-view+json": {
       "model_id": "d0df7075f84f4e7c970004aa08437854",
       "version_major": 2,
       "version_minor": 0
      },
      "text/plain": [
       "Canvas(toolbar=Toolbar(toolitems=[('Home', 'Reset original view', 'home', 'home'), ('Back', 'Back to previous …"
      ]
     },
     "metadata": {},
     "output_type": "display_data"
    },
    {
     "data": {
      "text/plain": [
       "(-0.5, 127.5, 127.5, -0.5)"
      ]
     },
     "execution_count": 14,
     "metadata": {},
     "output_type": "execute_result"
    }
   ],
   "source": [
    "data = sio.loadmat(paths[0])\n",
    "img = data[\"A\"]\n",
    "plt.close(3)\n",
    "plt.figure()\n",
    "plt.imshow(img)\n",
    "plt.axis(\"off\")"
   ]
  },
  {
   "cell_type": "markdown",
   "metadata": {},
   "source": [
    "## 像素聚类"
   ]
  },
  {
   "cell_type": "code",
   "execution_count": 15,
   "metadata": {
    "execution": {
     "iopub.execute_input": "2021-07-25T17:15:02.950027Z",
     "iopub.status.busy": "2021-07-25T17:15:02.949031Z",
     "iopub.status.idle": "2021-07-25T17:15:19.270647Z",
     "shell.execute_reply": "2021-07-25T17:15:19.270647Z",
     "shell.execute_reply.started": "2021-07-25T17:15:02.950027Z"
    },
    "tags": []
   },
   "outputs": [],
   "source": [
    "k = 16\n",
    "perimeter = img.reshape((-1, 3)) / 256\n",
    "pivot = perimeter[np.random.choice(len(perimeter), k)]\n",
    "for _ in range(iters):\n",
    "    idx = initCluster(perimeter, pivot)\n",
    "    meansPivot(perimeter, idx, pivot)"
   ]
  },
  {
   "cell_type": "code",
   "execution_count": 17,
   "metadata": {
    "execution": {
     "iopub.execute_input": "2021-07-25T17:15:19.272643Z",
     "iopub.status.busy": "2021-07-25T17:15:19.271650Z",
     "iopub.status.idle": "2021-07-25T17:15:19.366392Z",
     "shell.execute_reply": "2021-07-25T17:15:19.366392Z",
     "shell.execute_reply.started": "2021-07-25T17:15:19.272643Z"
    }
   },
   "outputs": [
    {
     "data": {
      "application/vnd.jupyter.widget-view+json": {
       "model_id": "b1946411aedf4c70b8c6ba6b361ef466",
       "version_major": 2,
       "version_minor": 0
      },
      "text/plain": [
       "Canvas(toolbar=Toolbar(toolitems=[('Home', 'Reset original view', 'home', 'home'), ('Back', 'Back to previous …"
      ]
     },
     "metadata": {},
     "output_type": "display_data"
    }
   ],
   "source": [
    "for i in range(k):\n",
    "    perimeter[idx == i] = pivot[i]\n",
    "img = perimeter.reshape((128, 128, 3))\n",
    "plt.close(4)\n",
    "plt.figure()\n",
    "plt.imshow(img)\n",
    "plt.axis(\"off\")\n",
    "plt.show()"
   ]
  }
 ],
 "metadata": {
  "interpreter": {
   "hash": "37b255bb5dc0d995b91bd1b934b878e610a26475f52eafaf29fdb395fb105534"
  },
  "kernelspec": {
   "display_name": "Python 3.8.12 64-bit ('base': conda)",
   "name": "python3"
  },
  "language_info": {
   "codemirror_mode": {
    "name": "ipython",
    "version": 3
   },
   "file_extension": ".py",
   "mimetype": "text/x-python",
   "name": "python",
   "nbconvert_exporter": "python",
   "pygments_lexer": "ipython3",
   "version": "3.8.12"
  },
  "toc-autonumbering": true,
  "toc-showmarkdowntxt": false,
  "toc-showtags": false
 },
 "nbformat": 4,
 "nbformat_minor": 4
}
