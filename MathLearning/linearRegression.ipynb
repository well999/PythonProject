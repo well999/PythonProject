{
 "cells": [
  {
   "cell_type": "markdown",
   "source": [
    "# 线性回归"
   ],
   "metadata": {}
  },
  {
   "cell_type": "markdown",
   "source": [
    "## 预处理"
   ],
   "metadata": {}
  },
  {
   "cell_type": "code",
   "execution_count": 1,
   "source": [
    "import numpy as np\n",
    "import pandas as pd\n",
    "import matplotlib.pyplot as plt\n",
    "from sklearn.model_selection import train_test_split\n",
    "import os\n",
    "from sklearn.datasets import load_boston\n",
    "from sklearn.linear_model import LinearRegression\n",
    "%matplotlib widget"
   ],
   "outputs": [],
   "metadata": {}
  },
  {
   "cell_type": "code",
   "execution_count": 2,
   "source": [
    "pd.set_option(\"display.width\", 100)\n",
    "os.getcwd()\n",
    "plt.rcParams[\"font.sans-serif\"] = \"SimHei\"\n",
    "plt.rcParams[\"axes.unicode_minus\"] = False"
   ],
   "outputs": [],
   "metadata": {}
  },
  {
   "cell_type": "code",
   "execution_count": 3,
   "source": [
    "X, Y = load_boston(return_X_y=True)\n",
    "X = np.c_[X, np.ones(X.shape[0])]\n",
    "train_x, test_x, train_y, test_y = train_test_split(X, Y, random_state=5)"
   ],
   "outputs": [],
   "metadata": {}
  },
  {
   "cell_type": "markdown",
   "source": [
    "## 损失函数\r\n",
    "$$J_\\theta = \\frac{1}{2m} \\sum_{i = 0}^{n} (x_i \\theta - Y_i)^2$$"
   ],
   "metadata": {}
  },
  {
   "cell_type": "code",
   "execution_count": 4,
   "source": [
    "def costFunction(x, y, theta, h):\n",
    "    loss = np.power(h(x, theta) - y, 2)\n",
    "    return np.sum(loss) / (2 * len(y))"
   ],
   "outputs": [],
   "metadata": {}
  },
  {
   "cell_type": "markdown",
   "source": [
    "## 梯度下降\r\n",
    "$$\\theta = \\theta - \\alpha \\frac{1}{m} x^T(x \\theta - Y)$$"
   ],
   "metadata": {}
  },
  {
   "cell_type": "code",
   "execution_count": 5,
   "source": [
    "def gradientDescent(x, y, theta, h, alpha, iters):\r\n",
    "    costs = list()\r\n",
    "    for _ in range(iters):\r\n",
    "        costs.append(costFunction(x, y, theta, h))\r\n",
    "        theta = theta - alpha * x.T @ (h(x, theta) - y) / len(y)\r\n",
    "    return costs, theta"
   ],
   "outputs": [],
   "metadata": {}
  },
  {
   "cell_type": "markdown",
   "source": [
    "## 模型训练"
   ],
   "metadata": {}
  },
  {
   "cell_type": "markdown",
   "source": [
    "### 初始化参数"
   ],
   "metadata": {}
  },
  {
   "cell_type": "code",
   "execution_count": 6,
   "source": [
    "h = lambda x, theta : x @ theta # 线性函数\r\n",
    "theta = np.full(shape=train_x.shape[1], fill_value=0.0238)  # 系数\r\n",
    "iters = 1000000  # 迭代次数\r\n",
    "alpha = 0.00000635    # 学习率\r\n",
    "costFunction(train_x, train_y, theta, h)    # 预调用代价函数"
   ],
   "outputs": [
    {
     "output_type": "execute_result",
     "data": {
      "text/plain": [
       "66.80923156980715"
      ]
     },
     "metadata": {},
     "execution_count": 6
    }
   ],
   "metadata": {}
  },
  {
   "cell_type": "markdown",
   "source": [
    "### 调用函数并绘图"
   ],
   "metadata": {}
  },
  {
   "cell_type": "code",
   "execution_count": 7,
   "source": [
    "costs, thetas = gradientDescent(train_x, train_y, theta, h, alpha, iters)"
   ],
   "outputs": [],
   "metadata": {}
  },
  {
   "cell_type": "code",
   "execution_count": null,
   "source": [
    "plt.figure()\r\n",
    "plt.title(\"损失函数\")\r\n",
    "plt.plot(range(iters), costs)\r\n",
    "plt.xlabel(\"迭代次数\", labelpad=10)\r\n",
    "plt.ylabel(\"偏差\", labelpad=15)"
   ],
   "outputs": [
    {
     "output_type": "display_data",
     "data": {
      "application/vnd.jupyter.widget-view+json": {
       "model_id": "e985b66f7b254828afdd1f8e1d10437d",
       "version_major": 2,
       "version_minor": 0
      },
      "text/plain": [
       "Canvas(toolbar=Toolbar(toolitems=[('Home', 'Reset original view', 'home', 'home'), ('Back', 'Back to previous …"
      ]
     },
     "metadata": {}
    },
    {
     "output_type": "execute_result",
     "data": {
      "text/plain": [
       "Text(0, 0.5, '偏差')"
      ]
     },
     "metadata": {},
     "execution_count": 8
    }
   ],
   "metadata": {}
  },
  {
   "cell_type": "code",
   "execution_count": null,
   "source": [
    "model = LinearRegression().fit(train_x, train_y)\r\n",
    "score = model.score(test_x, test_y)\r\n",
    "print(f\"泛化精度:{score:.2%}\")\r\n",
    "predict_y = test_x @ thetas\r\n",
    "plt.figure()\r\n",
    "plt.title(\"房价预测\")\r\n",
    "plt.plot(range(test_y.shape[0]), test_y, color='y', label='房价曲线', zorder=0)\r\n",
    "plt.plot(range(test_x.shape[0]), predict_y, color='g', label='房价预测曲线A', zorder=1)\r\n",
    "plt.plot(range(test_x.shape[0]), model.predict(test_x), color='r', label='房价预测曲线B', zorder=2)\r\n",
    "plt.legend(frameon=False, fontsize=6, loc=\"upper left\")"
   ],
   "outputs": [
    {
     "output_type": "stream",
     "name": "stdout",
     "text": [
      "泛化精度:70.59%\n"
     ]
    },
    {
     "output_type": "display_data",
     "data": {
      "application/vnd.jupyter.widget-view+json": {
       "model_id": "3003668479444fe09f01099b37d40c1e",
       "version_major": 2,
       "version_minor": 0
      },
      "text/plain": [
       "Canvas(toolbar=Toolbar(toolitems=[('Home', 'Reset original view', 'home', 'home'), ('Back', 'Back to previous …"
      ]
     },
     "metadata": {}
    },
    {
     "output_type": "execute_result",
     "data": {
      "text/plain": [
       "<matplotlib.legend.Legend at 0x21625239a60>"
      ]
     },
     "metadata": {},
     "execution_count": 9
    }
   ],
   "metadata": {}
  }
 ],
 "metadata": {
  "interpreter": {
   "hash": "c51d22a6e700603606d0eacc0072ee59cf10084b737a530df8cd1ae37f92a519"
  },
  "kernelspec": {
   "name": "python3",
   "display_name": "Python 3.8.11 64-bit"
  },
  "language_info": {
   "codemirror_mode": {
    "name": "ipython",
    "version": 3
   },
   "file_extension": ".py",
   "mimetype": "text/x-python",
   "name": "python",
   "nbconvert_exporter": "python",
   "pygments_lexer": "ipython3",
   "version": "3.8.11"
  },
  "toc-autonumbering": true
 },
 "nbformat": 4,
 "nbformat_minor": 4
}