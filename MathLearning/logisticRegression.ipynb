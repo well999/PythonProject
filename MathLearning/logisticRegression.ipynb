{
 "cells": [
  {
   "cell_type": "code",
   "execution_count": 1,
   "metadata": {
    "execution": {
     "iopub.execute_input": "2021-07-25T17:18:58.522767Z",
     "iopub.status.busy": "2021-07-25T17:18:58.522767Z",
     "iopub.status.idle": "2021-07-25T17:18:59.659701Z",
     "shell.execute_reply": "2021-07-25T17:18:59.659701Z",
     "shell.execute_reply.started": "2021-07-25T17:18:58.522767Z"
    }
   },
   "outputs": [],
   "source": [
    "import pandas as pd\n",
    "import numpy as np\n",
    "import matplotlib.pyplot as plt\n",
    "import glob\n",
    "import os\n",
    "import scipy.io as sio\n",
    "from sklearn.svm import SVC\n",
    "from sklearn.model_selection import train_test_split\n",
    "from sklearn.preprocessing import PolynomialFeatures\n",
    "from scipy.optimize import minimize\n",
    "%matplotlib widget"
   ]
  },
  {
   "cell_type": "code",
   "execution_count": 2,
   "metadata": {
    "execution": {
     "iopub.execute_input": "2021-07-25T17:18:59.660693Z",
     "iopub.status.busy": "2021-07-25T17:18:59.660693Z",
     "iopub.status.idle": "2021-07-25T17:18:59.675654Z",
     "shell.execute_reply": "2021-07-25T17:18:59.675654Z",
     "shell.execute_reply.started": "2021-07-25T17:18:59.660693Z"
    }
   },
   "outputs": [],
   "source": [
    "plt.rcParams[\"font.sans-serif\"] = 'SimHei'\n",
    "plt.rcParams[\"axes.unicode_minus\"] = False"
   ]
  },
  {
   "cell_type": "markdown",
   "metadata": {},
   "source": [
    "# 逻辑回归(二分类)"
   ]
  },
  {
   "cell_type": "markdown",
   "metadata": {},
   "source": [
    "## 读取数据"
   ]
  },
  {
   "cell_type": "code",
   "execution_count": 3,
   "metadata": {
    "execution": {
     "iopub.execute_input": "2021-07-25T17:18:59.677650Z",
     "iopub.status.busy": "2021-07-25T17:18:59.677650Z",
     "iopub.status.idle": "2021-07-25T17:18:59.690613Z",
     "shell.execute_reply": "2021-07-25T17:18:59.690613Z",
     "shell.execute_reply.started": "2021-07-25T17:18:59.677650Z"
    }
   },
   "outputs": [],
   "source": [
    "paths = glob.glob(\"../Coursera-ML-AndrewNg-master/*\")\n",
    "path = glob.glob(os.path.join(paths[1], \"*.txt\"))\n",
    "df = pd.read_csv(path[1], header=None)"
   ]
  },
  {
   "cell_type": "markdown",
   "metadata": {},
   "source": [
    "## 损失函数\n",
    "> $J_\\theta = \\frac{1}{m} \\sum_{i=0}^m \\left[ y \\log(h_\\theta) + (1-y)\\log(1-h_\\theta) \\right]$，$h_\\theta = \\frac{1}{1 + e^{-\\theta x}}$"
   ]
  },
  {
   "cell_type": "code",
   "execution_count": 4,
   "metadata": {
    "execution": {
     "iopub.execute_input": "2021-07-25T17:18:59.693609Z",
     "iopub.status.busy": "2021-07-25T17:18:59.692609Z",
     "iopub.status.idle": "2021-07-25T17:18:59.707577Z",
     "shell.execute_reply": "2021-07-25T17:18:59.706571Z",
     "shell.execute_reply.started": "2021-07-25T17:18:59.693609Z"
    }
   },
   "outputs": [],
   "source": [
    "def lossFunction(theta, x, y, lamda):\n",
    "    cost = y * np.log(func(x, theta)) + (1 - y) * np.log(1 - func(x, theta))\n",
    "    regula = np.power(theta, 2)\n",
    "    return -np.sum(cost) / len(x) + np.sum(regula) * lamda / (2 * len(x))"
   ]
  },
  {
   "cell_type": "markdown",
   "metadata": {},
   "source": [
    "## 梯度下降"
   ]
  },
  {
   "cell_type": "code",
   "execution_count": 5,
   "metadata": {
    "execution": {
     "iopub.execute_input": "2021-07-25T17:18:59.709563Z",
     "iopub.status.busy": "2021-07-25T17:18:59.709563Z",
     "iopub.status.idle": "2021-07-25T17:18:59.722535Z",
     "shell.execute_reply": "2021-07-25T17:18:59.721531Z",
     "shell.execute_reply.started": "2021-07-25T17:18:59.709563Z"
    }
   },
   "outputs": [],
   "source": [
    "def gradientDescent(theta, x, y, alpha, lamda, iters):\n",
    "    loss = list()\n",
    "    for _ in range(iters):\n",
    "        loss.append(lossFunction(theta, x, y, lamda))\n",
    "        theta = theta * (1 - alpha * lamda / len(x)) - x.T @ (func(x, theta) - y) * alpha / len(x)\n",
    "    return loss, theta"
   ]
  },
  {
   "cell_type": "markdown",
   "metadata": {},
   "source": [
    "## 初始化参数"
   ]
  },
  {
   "cell_type": "code",
   "execution_count": 6,
   "metadata": {
    "execution": {
     "iopub.execute_input": "2021-07-25T17:18:59.723526Z",
     "iopub.status.busy": "2021-07-25T17:18:59.723526Z",
     "iopub.status.idle": "2021-07-25T17:18:59.737488Z",
     "shell.execute_reply": "2021-07-25T17:18:59.737488Z",
     "shell.execute_reply.started": "2021-07-25T17:18:59.723526Z"
    }
   },
   "outputs": [
    {
     "data": {
      "text/plain": [
       "0.6931471805599454"
      ]
     },
     "execution_count": 6,
     "metadata": {},
     "output_type": "execute_result"
    }
   ],
   "source": [
    "poly = PolynomialFeatures() # 特征映射\n",
    "x = poly.fit_transform(df[[0, 1]]) # 特征值\n",
    "y = df[2] # 标签值\n",
    "theta = np.zeros(x.shape[1]) # 权值\n",
    "alpha = 0.1 # 学习率\n",
    "lamda = 0.001 # 正则化系数\n",
    "iters = 30000 # 迭代次数\n",
    "func = lambda x, theta : 1 / (np.exp(-x @ theta) + 1) # sigmoid函数\n",
    "lossFunction(theta, x, y, lamda)"
   ]
  },
  {
   "cell_type": "markdown",
   "metadata": {},
   "source": [
    "## 训练过程"
   ]
  },
  {
   "cell_type": "markdown",
   "metadata": {},
   "source": [
    "### 计算结果"
   ]
  },
  {
   "cell_type": "code",
   "execution_count": 7,
   "metadata": {
    "execution": {
     "iopub.execute_input": "2021-07-25T17:18:59.738486Z",
     "iopub.status.busy": "2021-07-25T17:18:59.738486Z",
     "iopub.status.idle": "2021-07-25T17:19:13.637704Z",
     "shell.execute_reply": "2021-07-25T17:19:13.637704Z",
     "shell.execute_reply.started": "2021-07-25T17:18:59.738486Z"
    }
   },
   "outputs": [],
   "source": [
    "loss, theta_final = gradientDescent(theta, x, y, alpha, lamda, iters)"
   ]
  },
  {
   "cell_type": "markdown",
   "metadata": {},
   "source": [
    "### 迭代过程"
   ]
  },
  {
   "cell_type": "code",
   "execution_count": 8,
   "metadata": {
    "execution": {
     "iopub.execute_input": "2021-07-25T17:19:13.638696Z",
     "iopub.status.busy": "2021-07-25T17:19:13.638696Z",
     "iopub.status.idle": "2021-07-25T17:19:13.684575Z",
     "shell.execute_reply": "2021-07-25T17:19:13.684575Z",
     "shell.execute_reply.started": "2021-07-25T17:19:13.638696Z"
    }
   },
   "outputs": [
    {
     "data": {
      "application/vnd.jupyter.widget-view+json": {
       "model_id": "f0343f003d6646b6861afe5e2c48edc6",
       "version_major": 2,
       "version_minor": 0
      },
      "text/plain": [
       "Canvas(toolbar=Toolbar(toolitems=[('Home', 'Reset original view', 'home', 'home'), ('Back', 'Back to previous …"
      ]
     },
     "metadata": {},
     "output_type": "display_data"
    },
    {
     "data": {
      "text/plain": [
       "[<matplotlib.lines.Line2D at 0x1e414635100>]"
      ]
     },
     "execution_count": 8,
     "metadata": {},
     "output_type": "execute_result"
    }
   ],
   "source": [
    "plt.figure()\n",
    "plt.plot(range(len(loss)), loss)"
   ]
  },
  {
   "cell_type": "markdown",
   "metadata": {},
   "source": [
    "### 准确率"
   ]
  },
  {
   "cell_type": "code",
   "execution_count": 9,
   "metadata": {
    "execution": {
     "iopub.execute_input": "2021-07-25T17:19:13.686571Z",
     "iopub.status.busy": "2021-07-25T17:19:13.686571Z",
     "iopub.status.idle": "2021-07-25T17:19:13.701529Z",
     "shell.execute_reply": "2021-07-25T17:19:13.700533Z",
     "shell.execute_reply.started": "2021-07-25T17:19:13.686571Z"
    }
   },
   "outputs": [
    {
     "data": {
      "text/plain": [
       "0.8559322033898306"
      ]
     },
     "execution_count": 9,
     "metadata": {},
     "output_type": "execute_result"
    }
   ],
   "source": [
    "y_predict = np.where(func(x, theta_final) > 0.5, 1, 0)\n",
    "np.mean(y_predict == y)"
   ]
  },
  {
   "cell_type": "markdown",
   "metadata": {},
   "source": [
    "## 决策边界"
   ]
  },
  {
   "cell_type": "code",
   "execution_count": 10,
   "metadata": {
    "execution": {
     "iopub.execute_input": "2021-07-25T17:19:13.703529Z",
     "iopub.status.busy": "2021-07-25T17:19:13.703529Z",
     "iopub.status.idle": "2021-07-25T17:19:13.808243Z",
     "shell.execute_reply": "2021-07-25T17:19:13.808243Z",
     "shell.execute_reply.started": "2021-07-25T17:19:13.703529Z"
    }
   },
   "outputs": [
    {
     "data": {
      "application/vnd.jupyter.widget-view+json": {
       "model_id": "6a217f01162e415d8125ac1e6611b532",
       "version_major": 2,
       "version_minor": 0
      },
      "text/plain": [
       "Canvas(toolbar=Toolbar(toolitems=[('Home', 'Reset original view', 'home', 'home'), ('Back', 'Back to previous …"
      ]
     },
     "metadata": {},
     "output_type": "display_data"
    },
    {
     "data": {
      "text/plain": [
       "<matplotlib.contour.QuadContourSet at 0x1e414615e20>"
      ]
     },
     "execution_count": 10,
     "metadata": {},
     "output_type": "execute_result"
    }
   ],
   "source": [
    "x1 = np.linspace(-1, 1.2, 200)\n",
    "xx1, xx2 = np.meshgrid(x1, x1)\n",
    "z = poly.fit_transform(np.c_[xx1.ravel(), xx2.ravel()]) @ theta_final\n",
    "zz = z.reshape((200, 200))\n",
    "df.plot.scatter(0, 1, c=2, cmap=plt.cm.flag_r, colorbar=False, marker=\"x\", xlabel=\"$X_1$\", ylabel=\"$X_2$\")\n",
    "plt.contour(xx1, xx2, zz, 0)"
   ]
  },
  {
   "cell_type": "markdown",
   "metadata": {},
   "source": [
    "# 逻辑回归(多分类)"
   ]
  },
  {
   "cell_type": "markdown",
   "metadata": {},
   "source": [
    "## 读取数据"
   ]
  },
  {
   "cell_type": "code",
   "execution_count": 11,
   "metadata": {
    "execution": {
     "iopub.execute_input": "2021-07-25T17:19:13.809240Z",
     "iopub.status.busy": "2021-07-25T17:19:13.809240Z",
     "iopub.status.idle": "2021-07-25T17:19:13.901994Z",
     "shell.execute_reply": "2021-07-25T17:19:13.901994Z",
     "shell.execute_reply.started": "2021-07-25T17:19:13.809240Z"
    }
   },
   "outputs": [],
   "source": [
    "paths = glob.glob(\"../Coursera-ML-AndrewNg-master/*\")\n",
    "path = glob.glob(os.path.join(paths[2], \"*.mat\"))\n",
    "data = sio.loadmat(path[0])\n",
    "datax = np.insert(data[\"X\"], 0, 1, axis=1)\n",
    "datay = data[\"y\"].ravel()\n",
    "train_x, test_x, train_y, test_y = train_test_split(datax, datay, random_state=4)"
   ]
  },
  {
   "cell_type": "markdown",
   "metadata": {},
   "source": [
    "## 预览数据"
   ]
  },
  {
   "cell_type": "code",
   "execution_count": 12,
   "metadata": {
    "execution": {
     "iopub.execute_input": "2021-07-25T17:19:13.902990Z",
     "iopub.status.busy": "2021-07-25T17:19:13.902990Z",
     "iopub.status.idle": "2021-07-25T17:19:17.182224Z",
     "shell.execute_reply": "2021-07-25T17:19:17.182224Z",
     "shell.execute_reply.started": "2021-07-25T17:19:13.902990Z"
    },
    "pycharm": {
     "name": "#%%\n"
    }
   },
   "outputs": [
    {
     "data": {
      "application/vnd.jupyter.widget-view+json": {
       "model_id": "28e2dd3100a8452b96879b8f55721f7d",
       "version_major": 2,
       "version_minor": 0
      },
      "text/plain": [
       "Canvas(toolbar=Toolbar(toolitems=[('Home', 'Reset original view', 'home', 'home'), ('Back', 'Back to previous …"
      ]
     },
     "metadata": {},
     "output_type": "display_data"
    }
   ],
   "source": [
    "plt.close(3)\n",
    "fig, ax = plt.subplots(10, 10, sharex=True, sharey=True, figsize=(7, 7), dpi=120, num=3)\n",
    "fig.suptitle(\"手写数字集\", y=0.94, va=\"center\")\n",
    "plt.xticks([])\n",
    "plt.yticks([])\n",
    "i = np.random.choice(train_x.shape[0], 100, replace=False)\n",
    "temp = train_x[i, 1:]\n",
    "for r in range(10):\n",
    "    for c in range(10):\n",
    "        ax[r, c].imshow(temp[r * 10 + c].reshape((20, 20)).T, cmap=\"gray_r\")"
   ]
  },
  {
   "cell_type": "markdown",
   "metadata": {},
   "source": [
    "## 梯度向量"
   ]
  },
  {
   "cell_type": "code",
   "execution_count": 13,
   "metadata": {
    "execution": {
     "iopub.execute_input": "2021-07-25T17:19:17.183221Z",
     "iopub.status.busy": "2021-07-25T17:19:17.183221Z",
     "iopub.status.idle": "2021-07-25T17:19:17.200180Z",
     "shell.execute_reply": "2021-07-25T17:19:17.198181Z",
     "shell.execute_reply.started": "2021-07-25T17:19:17.183221Z"
    }
   },
   "outputs": [],
   "source": [
    "def gradientVector(theta, x, y, lamda):\n",
    "    return (x.T @ (func(x, theta) - y) + lamda * theta) / len(x)"
   ]
  },
  {
   "cell_type": "markdown",
   "metadata": {},
   "source": [
    "## 训练过程"
   ]
  },
  {
   "cell_type": "code",
   "execution_count": 14,
   "metadata": {
    "execution": {
     "iopub.execute_input": "2021-07-25T17:19:17.202172Z",
     "iopub.status.busy": "2021-07-25T17:19:17.202172Z",
     "iopub.status.idle": "2021-07-25T17:19:35.775548Z",
     "shell.execute_reply": "2021-07-25T17:19:35.775548Z",
     "shell.execute_reply.started": "2021-07-25T17:19:17.202172Z"
    }
   },
   "outputs": [],
   "source": [
    "lamda = 1\n",
    "theta_all = np.zeros((10, datax.shape[1]))\n",
    "for i in range(1, 11):\n",
    "    theta_i = np.zeros(datax.shape[1])\n",
    "    result = minimize(\n",
    "        fun=lossFunction,\n",
    "        x0=theta_i,\n",
    "        args=(train_x, train_y == i, lamda),\n",
    "        method=\"TNC\",\n",
    "        jac=gradientVector,\n",
    "    )\n",
    "    theta_all[i - 1, :] = result.x"
   ]
  },
  {
   "cell_type": "markdown",
   "metadata": {},
   "source": [
    "## 训练结果"
   ]
  },
  {
   "cell_type": "code",
   "execution_count": 15,
   "metadata": {
    "execution": {
     "iopub.execute_input": "2021-07-25T17:19:35.777517Z",
     "iopub.status.busy": "2021-07-25T17:19:35.776518Z",
     "iopub.status.idle": "2021-07-25T17:19:35.791479Z",
     "shell.execute_reply": "2021-07-25T17:19:35.791479Z",
     "shell.execute_reply.started": "2021-07-25T17:19:35.776518Z"
    }
   },
   "outputs": [
    {
     "data": {
      "text/plain": [
       "0.9136"
      ]
     },
     "execution_count": 15,
     "metadata": {},
     "output_type": "execute_result"
    }
   ],
   "source": [
    "probability = func(test_x, theta_all.T)\n",
    "predict = np.argmax(probability, axis=1) + 1\n",
    "np.mean(predict == test_y)"
   ]
  },
  {
   "cell_type": "markdown",
   "metadata": {},
   "source": [
    "## 数字识别"
   ]
  },
  {
   "cell_type": "code",
   "execution_count": 16,
   "metadata": {
    "execution": {
     "iopub.execute_input": "2021-07-25T17:19:35.792476Z",
     "iopub.status.busy": "2021-07-25T17:19:35.792476Z",
     "iopub.status.idle": "2021-07-25T17:19:35.854311Z",
     "shell.execute_reply": "2021-07-25T17:19:35.854311Z",
     "shell.execute_reply.started": "2021-07-25T17:19:35.792476Z"
    }
   },
   "outputs": [
    {
     "data": {
      "application/vnd.jupyter.widget-view+json": {
       "model_id": "78aa4b57e16f4292a97b12c2c9217e63",
       "version_major": 2,
       "version_minor": 0
      },
      "text/plain": [
       "Canvas(toolbar=Toolbar(toolitems=[('Home', 'Reset original view', 'home', 'home'), ('Back', 'Back to previous …"
      ]
     },
     "metadata": {},
     "output_type": "display_data"
    },
    {
     "data": {
      "text/plain": [
       "(-0.5, 19.5, 19.5, -0.5)"
      ]
     },
     "execution_count": 16,
     "metadata": {},
     "output_type": "execute_result"
    }
   ],
   "source": [
    "i = np.random.randint(len(test_x))\n",
    "plt.close(4)\n",
    "plt.figure(figsize=(1.8, 1.8))\n",
    "plt.title(f\"数字{predict[i] % 10}\")\n",
    "plt.imshow(test_x[i, 1:].reshape(20, 20).T, cmap=\"gray_r\")\n",
    "plt.axis(\"off\")"
   ]
  }
 ],
 "metadata": {
  "interpreter": {
   "hash": "37b255bb5dc0d995b91bd1b934b878e610a26475f52eafaf29fdb395fb105534"
  },
  "kernelspec": {
   "display_name": "Python 3.8.12 64-bit ('base': conda)",
   "name": "python3"
  },
  "language_info": {
   "codemirror_mode": {
    "name": "ipython",
    "version": 3
   },
   "file_extension": ".py",
   "mimetype": "text/x-python",
   "name": "python",
   "nbconvert_exporter": "python",
   "pygments_lexer": "ipython3",
   "version": "3.8.12"
  },
  "toc-autonumbering": true,
  "toc-showcode": false
 },
 "nbformat": 4,
 "nbformat_minor": 4
}
