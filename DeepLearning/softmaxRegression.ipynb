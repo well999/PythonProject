{
 "cells": [
  {
   "cell_type": "code",
   "execution_count": 1,
   "source": [
    "import torch\n",
    "import torchvision\n",
    "from torchvision import transforms\n",
    "import matplotlib.pyplot as plt\n",
    "from torch.utils import data\n",
    "from pathlib import Path\n",
    "import random\n",
    "import time\n",
    "%matplotlib widget"
   ],
   "outputs": [],
   "metadata": {}
  },
  {
   "cell_type": "code",
   "execution_count": 2,
   "source": [
    "class Timer:\n",
    "    def __init__(self):\n",
    "        self.times = list()\n",
    "        self.start()\n",
    "    def start(self):\n",
    "        self.stime = time.time()\n",
    "    def stop(self):\n",
    "        self.times.append(time.time() - self.stime)\n",
    "        return self.times[-1]"
   ],
   "outputs": [],
   "metadata": {}
  },
  {
   "cell_type": "code",
   "execution_count": 3,
   "source": [
    "mnistpath = Path(\"./data/FashionMNIST/raw\")\n",
    "mnist_train = torchvision.datasets.FashionMNIST(\n",
    "    root=\"./data\", transform=transforms.ToTensor(), train=True\n",
    ")\n",
    "mnist_test = torchvision.datasets.FashionMNIST(\n",
    "    root=\"./data\", transform=transforms.ToTensor(), train=False\n",
    ")"
   ],
   "outputs": [
    {
     "output_type": "stream",
     "name": "stderr",
     "text": [
      "D:\\Python\\anaconda3\\lib\\site-packages\\torchvision\\datasets\\mnist.py:498: UserWarning: The given NumPy array is not writeable, and PyTorch does not support non-writeable tensors. This means you can write to the underlying (supposedly non-writeable) NumPy array using the tensor. You may want to copy the array to protect its data or make it writeable before converting it to a tensor. This type of warning will be suppressed for the rest of this program. (Triggered internally at  ..\\torch\\csrc\\utils\\tensor_numpy.cpp:180.)\n",
      "  return torch.from_numpy(parsed.astype(m[2], copy=False)).view(*s)\n"
     ]
    }
   ],
   "metadata": {}
  },
  {
   "cell_type": "code",
   "execution_count": 4,
   "source": [
    "labels = [\n",
    "    \"t-shirt\",\n",
    "    \"trouser\",\n",
    "    \"pullover\",\n",
    "    \"dress\",\n",
    "    \"coat\",\n",
    "    \"sandal\",\n",
    "    \"shirt\",\n",
    "    \"sneaker\",\n",
    "    \"bag\",\n",
    "    \"ankle boot\",\n",
    "]\n",
    "id = list(range(len(mnist_train)))\n",
    "random.shuffle(id)\n",
    "plt.close(1)\n",
    "fig, ax = plt.subplots(10, 10, figsize=(9, 9), num=1)\n",
    "for r in range(10):\n",
    "    for c in range(10):\n",
    "        ax[r, c].imshow(mnist_train[id[r * 10 + c]][0][0], cmap=plt.cm.Greys_r)\n",
    "        ax[r, c].xaxis.set_visible(False)\n",
    "        ax[r, c].yaxis.set_visible(False)\n",
    "        ax[r, c].set_title(labels[mnist_train[id[r * 10 + c]][1]], fontsize=8)\n",
    "fig.tight_layout()"
   ],
   "outputs": [
    {
     "output_type": "display_data",
     "data": {
      "application/vnd.jupyter.widget-view+json": {
       "version_major": 2,
       "version_minor": 0,
       "model_id": "f72b68a9a01d4edeaf6d081c07bdb5cf"
      },
      "text/plain": [
       "Canvas(toolbar=Toolbar(toolitems=[('Home', 'Reset original view', 'home', 'home'), ('Back', 'Back to previous …"
      ]
     },
     "metadata": {}
    }
   ],
   "metadata": {}
  },
  {
   "cell_type": "code",
   "execution_count": 5,
   "source": [
    "def lossFunction(x, y, w, b, func):\n",
    "    cost = torch.exp(func(x, w, b))\n",
    "    cost = cost / torch.sum(cost, dim=1, keepdim=True)\n",
    "    loss = -torch.log(cost[range(len(cost)), y])\n",
    "    return torch.sum(loss)"
   ],
   "outputs": [],
   "metadata": {}
  },
  {
   "cell_type": "code",
   "execution_count": 6,
   "source": [
    "def optimize(*params, lr):\n",
    "    with torch.no_grad():\n",
    "        for param in params:\n",
    "            param -= param.grad * lr\n",
    "            param.grad.zero_()"
   ],
   "outputs": [],
   "metadata": {}
  },
  {
   "cell_type": "code",
   "execution_count": 7,
   "source": [
    "train_iter = data.DataLoader(mnist_train, 20, shuffle=True, num_workers=2)\n",
    "w = torch.normal(0, 0.01, size=(28 * 28, 10), requires_grad=True)\n",
    "b = torch.zeros(10, requires_grad=True)\n",
    "epoch = 10\n",
    "lr = 0.03\n",
    "func = lambda x, w, b : x @ w + b"
   ],
   "outputs": [],
   "metadata": {}
  },
  {
   "cell_type": "code",
   "execution_count": 8,
   "source": [
    "t = Timer()\n",
    "for x, y in train_iter:\n",
    "    loss = lossFunction(x.reshape(-1, w.shape[0]), y, w, b, func)\n",
    "    loss.backward()\n",
    "    optimize(w, b, lr=lr)\n",
    "delta = t.stop()\n",
    "w, loss"
   ],
   "outputs": [
    {
     "output_type": "execute_result",
     "data": {
      "text/plain": [
       "(tensor([[nan, nan, nan,  ..., nan, nan, nan],\n",
       "         [nan, nan, nan,  ..., nan, nan, nan],\n",
       "         [nan, nan, nan,  ..., nan, nan, nan],\n",
       "         ...,\n",
       "         [nan, nan, nan,  ..., nan, nan, nan],\n",
       "         [nan, nan, nan,  ..., nan, nan, nan],\n",
       "         [nan, nan, nan,  ..., nan, nan, nan]], requires_grad=True),\n",
       " tensor(nan, grad_fn=<SumBackward0>))"
      ]
     },
     "metadata": {},
     "execution_count": 8
    }
   ],
   "metadata": {}
  }
 ],
 "metadata": {
  "orig_nbformat": 4,
  "language_info": {
   "name": "python",
   "version": "3.8.11",
   "mimetype": "text/x-python",
   "codemirror_mode": {
    "name": "ipython",
    "version": 3
   },
   "pygments_lexer": "ipython3",
   "nbconvert_exporter": "python",
   "file_extension": ".py"
  },
  "kernelspec": {
   "name": "python3",
   "display_name": "Python 3.8.11 64-bit ('base': conda)"
  },
  "interpreter": {
   "hash": "c51d22a6e700603606d0eacc0072ee59cf10084b737a530df8cd1ae37f92a519"
  }
 },
 "nbformat": 4,
 "nbformat_minor": 2
}