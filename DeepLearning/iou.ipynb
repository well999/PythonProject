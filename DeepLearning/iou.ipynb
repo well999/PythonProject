{
 "cells": [
  {
   "cell_type": "code",
   "execution_count": 12,
   "metadata": {},
   "outputs": [],
   "source": [
    "import numpy as np\n",
    "from pathlib import Path\n",
    "from PIL import Image, ImageDraw, ImageFont"
   ]
  },
  {
   "cell_type": "code",
   "execution_count": 13,
   "metadata": {},
   "outputs": [],
   "source": [
    "def boxes_iou(boxes1, boxes2):\n",
    "    #锚框与真实框面积之和\n",
    "    area_func = lambda w, h: abs(w * h)\n",
    "    area1 = area_func(boxes1[:, 0] - boxes1[:, 2], boxes1[:, 1] - boxes1[:, 3])\n",
    "    area2 = area_func(boxes2[:, 0] - boxes2[:, 2], boxes2[:, 1] - boxes2[:, 3])\n",
    "    area_union = area1[:, None] + area2\n",
    "    #锚框与真实框之间的交集\n",
    "    left_upper = np.maximum(boxes1[:, None, :2], boxes2[:, :2])\n",
    "    right_bottom = np.minimum(boxes1[:, None, -2:], boxes2[:, -2:])\n",
    "    weight_height = np.clip(right_bottom - left_upper, a_min=0, a_max=None)\n",
    "    area_inter = weight_height[:, :, 0] * weight_height[:, :, 1]\n",
    "    #计算交并比\n",
    "    iou = area_inter / (area_union - area_inter)\n",
    "    return iou"
   ]
  },
  {
   "cell_type": "code",
   "execution_count": 14,
   "metadata": {},
   "outputs": [],
   "source": [
    "def boxes_assign(anchor_boxes, bound_boxes, threshold=0.5):\n",
    "    anchor_num, bound_num = anchor_boxes.shape[0], bound_boxes.shape[0]\n",
    "    iou = boxes_iou(anchor_boxes, bound_boxes)\n",
    "    values = np.amax(iou, axis=1)\n",
    "    indices = np.argmax(iou, axis=1)\n",
    "    anchor_id = np.where(values >= threshold)\n",
    "    bound_id = indices[values >= threshold]\n",
    "    anchor_bound = np.full(anchor_num, fill_value=-1)\n",
    "    anchor_bound[anchor_id] = bound_id\n",
    "    return anchor_bound"
   ]
  },
  {
   "cell_type": "code",
   "execution_count": 15,
   "metadata": {},
   "outputs": [
    {
     "data": {
      "text/plain": [
       "array([-1, -1, -1, -1, -1])"
      ]
     },
     "execution_count": 15,
     "metadata": {},
     "output_type": "execute_result"
    }
   ],
   "source": [
    "boxes1=np.random.randint(100, 500, size=(5, 4))\n",
    "boxes2=np.random.randint(200, 400, size=(4, 4))\n",
    "iou = boxes_iou(boxes1, boxes2)\n",
    "boxes_assign(boxes1, boxes2)"
   ]
  },
  {
   "cell_type": "code",
   "execution_count": 16,
   "metadata": {},
   "outputs": [
    {
     "name": "stdout",
     "output_type": "stream",
     "text": [
      "(1280, 1280)\n"
     ]
    }
   ],
   "source": [
    "if __name__ == \"__main__\":\n",
    "    path = Path.cwd()\n",
    "    imgs = list(path.rglob(\"dog?.jpg\"))\n",
    "    boxes = np.array([[200, 200, 400, 400], [300, 300, 600, 600]])\n",
    "    x1 = np.max(boxes[:, 0])\n",
    "    y1 = np.max(boxes[:, 1])\n",
    "    x2 = np.min(boxes[:, 2])\n",
    "    y2 = np.min(boxes[:, 3])\n",
    "    area_inter = (x2 - x1 + 1) * (y2 - y1 + 1)\n",
    "    area1 = (boxes[0, 2] - boxes[0, 0] + 1) * (boxes[0, 3] - boxes[0, 1] + 1)\n",
    "    area2 = (boxes[1, 2] - boxes[1, 0] + 1) * (boxes[1, 3] - boxes[1, 1] + 1)\n",
    "    iou = area_inter / (area1 + area2 - area_inter)\n",
    "\n",
    "    with Image.open(imgs[0]) as img:\n",
    "        draw = ImageDraw.Draw(img)\n",
    "        print(img.size)\n",
    "        draw.rectangle((x1, y1, x2, y2), \"yellow\", \"blue\")\n",
    "        draw.rectangle(tuple(boxes[0]), outline=\"white\", width=2)\n",
    "        draw.rectangle(tuple(boxes[1]), outline=\"white\", width=2)\n",
    "        draw.text((x1, y1), f\"iou:{iou:.2%}\", fill=\"green\", align=\"left\")\n",
    "        img.show()"
   ]
  }
 ],
 "metadata": {
  "interpreter": {
   "hash": "37b255bb5dc0d995b91bd1b934b878e610a26475f52eafaf29fdb395fb105534"
  },
  "kernelspec": {
   "display_name": "Python 3.8.12 64-bit ('base': conda)",
   "name": "python3"
  },
  "language_info": {
   "codemirror_mode": {
    "name": "ipython",
    "version": 3
   },
   "file_extension": ".py",
   "mimetype": "text/x-python",
   "name": "python",
   "nbconvert_exporter": "python",
   "pygments_lexer": "ipython3",
   "version": "3.8.12"
  },
  "orig_nbformat": 4
 },
 "nbformat": 4,
 "nbformat_minor": 2
}
