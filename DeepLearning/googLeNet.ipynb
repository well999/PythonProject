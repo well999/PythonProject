{
 "cells": [
  {
   "cell_type": "code",
   "execution_count": 1,
   "source": [
    "import torch\r\n",
    "from torch import nn\r\n",
    "from torch.nn import functional as F"
   ],
   "outputs": [],
   "metadata": {}
  },
  {
   "cell_type": "code",
   "execution_count": 2,
   "source": [
    "class Inception(nn.Module):\r\n",
    "    def __init__(self, in_channel, c1, c2, c3, c4) -> None:\r\n",
    "        super().__init__()\r\n",
    "        self.branch1 = nn.Conv2d(in_channel, c1, 1)\r\n",
    "        self.branch2_1 = nn.Conv2d(in_channel, c2[0], 1)\r\n",
    "        self.branch2_2 = nn.Conv2d(c2[0], c2[1], 3, padding=1)\r\n",
    "        self.branch3_1 = nn.Conv2d(in_channel, c3[0], 1)\r\n",
    "        self.branch3_2 = nn.Conv2d(c3[0], c3[1], 5, padding=2)\r\n",
    "        self.branch4_1 = nn.MaxPool2d(3, stride=1, padding=1)\r\n",
    "        self.branch4_2 = nn.Conv2d(in_channel, c4, 1)\r\n",
    "    def forward(self, x):\r\n",
    "        b1 = F.relu(self.branch1(x))\r\n",
    "        b2 = F.relu(self.branch2_2(F.relu(self.branch2_1(x))))\r\n",
    "        b3 = F.relu(self.branch3_2(F.relu(self.branch3_1(x))))\r\n",
    "        b4 = F.relu(self.branch4_2(F.relu(self.branch4_1(x))))\r\n",
    "        return torch.cat([b1, b2, b3, b4], dim=1)"
   ],
   "outputs": [],
   "metadata": {}
  },
  {
   "cell_type": "code",
   "execution_count": 7,
   "source": [
    "net = Inception(1, 3, (2, 3), (3, 5), 4)\r\n",
    "x = torch.rand(1, 1, 7, 7)\r\n",
    "net(x).shape"
   ],
   "outputs": [
    {
     "output_type": "execute_result",
     "data": {
      "text/plain": [
       "torch.Size([1, 15, 7, 7])"
      ]
     },
     "metadata": {},
     "execution_count": 7
    }
   ],
   "metadata": {}
  }
 ],
 "metadata": {
  "orig_nbformat": 4,
  "language_info": {
   "name": "python",
   "version": "3.8.11",
   "mimetype": "text/x-python",
   "codemirror_mode": {
    "name": "ipython",
    "version": 3
   },
   "pygments_lexer": "ipython3",
   "nbconvert_exporter": "python",
   "file_extension": ".py"
  },
  "kernelspec": {
   "name": "python3",
   "display_name": "Python 3.8.11 64-bit ('base': conda)"
  },
  "interpreter": {
   "hash": "c51d22a6e700603606d0eacc0072ee59cf10084b737a530df8cd1ae37f92a519"
  }
 },
 "nbformat": 4,
 "nbformat_minor": 2
}