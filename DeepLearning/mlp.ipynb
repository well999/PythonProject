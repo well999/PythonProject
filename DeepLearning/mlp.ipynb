{
 "cells": [
  {
   "cell_type": "code",
   "execution_count": null,
   "metadata": {},
   "outputs": [],
   "source": [
    "import torchvision\n",
    "import torch\n",
    "import matplotlib.pyplot as plt\n",
    "from pathlib import Path\n",
    "from torchvision import transforms\n",
    "from torch.utils import data\n",
    "from torch import nn\n",
    "import random\n",
    "%matplotlib widget"
   ]
  },
  {
   "cell_type": "code",
   "execution_count": 2,
   "metadata": {},
   "outputs": [
    {
     "name": "stderr",
     "output_type": "stream",
     "text": [
      "D:\\Python\\anaconda3\\lib\\site-packages\\torchvision\\datasets\\mnist.py:498: UserWarning: The given NumPy array is not writeable, and PyTorch does not support non-writeable tensors. This means you can write to the underlying (supposedly non-writeable) NumPy array using the tensor. You may want to copy the array to protect its data or make it writeable before converting it to a tensor. This type of warning will be suppressed for the rest of this program. (Triggered internally at  ..\\torch\\csrc\\utils\\tensor_numpy.cpp:180.)\n",
      "  return torch.from_numpy(parsed.astype(m[2], copy=False)).view(*s)\n"
     ]
    }
   ],
   "source": [
    "mnist_train = torchvision.datasets.FashionMNIST(\"./data\", train=True, transform=transforms.ToTensor())\n",
    "mnist_test = torchvision.datasets.FashionMNIST(\"./data\", train=False, transform=transforms.ToTensor())"
   ]
  },
  {
   "cell_type": "code",
   "execution_count": 3,
   "metadata": {},
   "outputs": [],
   "source": [
    "def relu(x):\n",
    "    a = torch.zeros_like(x)\n",
    "    return torch.maximum(x, a)"
   ]
  },
  {
   "cell_type": "code",
   "execution_count": 4,
   "metadata": {},
   "outputs": [],
   "source": [
    "def net(*params, x):\n",
    "    w1, b1, w2, b2 = params\n",
    "    X = x.reshape(-1, 28 * 28)\n",
    "    H = relu(X @ w1 + b1)\n",
    "    return H @ w2 + b2"
   ]
  },
  {
   "cell_type": "code",
   "execution_count": 5,
   "metadata": {},
   "outputs": [],
   "source": [
    "net1 = nn.Sequential(nn.Flatten(), nn.Linear(28 * 28, 256), nn.ReLU(), nn.Dropout(), nn.Linear(256, 10))"
   ]
  },
  {
   "cell_type": "code",
   "execution_count": 6,
   "metadata": {},
   "outputs": [],
   "source": [
    "batch_size = 256\n",
    "dataset = data.DataLoader(mnist_train, batch_size, shuffle=True)\n",
    "w1 = nn.Parameter(torch.randn(28 * 28, 256, requires_grad=True))\n",
    "b1 = nn.Parameter(torch.zeros(256, requires_grad=True))\n",
    "w2 = nn.Parameter(torch.randn(256, 10, requires_grad=True))\n",
    "b2 = nn.Parameter(torch.zeros(10, requires_grad=True))\n",
    "loss = nn.CrossEntropyLoss()\n",
    "trainer = torch.optim.SGD([w1, b1, w2, b2], lr= 0.1)\n",
    "trainer1 = torch.optim.SGD(net1.parameters(), lr=0.1)\n",
    "epoch = 20"
   ]
  },
  {
   "cell_type": "code",
   "execution_count": 11,
   "metadata": {},
   "outputs": [],
   "source": [
    "def init_weight(model):\n",
    "    if type(model) == nn.Linear:\n",
    "        # named_parameters方法迭代生成两个元组变量((weight, param), (bias, param))\n",
    "        print(\"init\", *[(name, param.shape) for name, param in model.named_parameters()][0]) \n",
    "        nn.init.normal_(model.weight, std=0.1)"
   ]
  },
  {
   "cell_type": "code",
   "execution_count": 12,
   "metadata": {},
   "outputs": [
    {
     "name": "stdout",
     "output_type": "stream",
     "text": [
      "init weight torch.Size([256, 784])\n",
      "init weight torch.Size([10, 256])\n"
     ]
    }
   ],
   "source": [
    "net1.apply(init_weight)\n",
    "net1 = net1.to(\"cuda\")"
   ]
  },
  {
   "cell_type": "code",
   "execution_count": 9,
   "metadata": {},
   "outputs": [],
   "source": [
    "def init_dropout(x, p):\n",
    "    assert 0 <= p <= 1, \"丢弃率区间为[0, 1]\"\n",
    "    if p == 1:\n",
    "        return torch.zeros_like(x)\n",
    "    if p == 0:\n",
    "        return x\n",
    "    mask = torch.rand(x.shape) > p\n",
    "    return mask * x / (1 - p)"
   ]
  },
  {
   "cell_type": "code",
   "execution_count": 10,
   "metadata": {},
   "outputs": [],
   "source": [
    "for _ in range(epoch):\n",
    "    for x, y in dataset:\n",
    "        trainer1.zero_grad()\n",
    "        loss(net1(x.cuda()), y.cuda()).backward()\n",
    "        trainer1.step()"
   ]
  },
  {
   "cell_type": "code",
   "execution_count": 11,
   "metadata": {},
   "outputs": [
    {
     "data": {
      "text/plain": [
       "(torch.Size([256, 784]), torch.Size([10, 256]))"
      ]
     },
     "execution_count": 11,
     "metadata": {},
     "output_type": "execute_result"
    }
   ],
   "source": [
    "net1[1].weight.shape, net1[4].weight.shape"
   ]
  }
 ],
 "metadata": {
  "interpreter": {
   "hash": "c51d22a6e700603606d0eacc0072ee59cf10084b737a530df8cd1ae37f92a519"
  },
  "kernelspec": {
   "display_name": "Python 3.8.11 64-bit ('base': conda)",
   "name": "python3"
  },
  "language_info": {
   "codemirror_mode": {
    "name": "ipython",
    "version": 3
   },
   "file_extension": ".py",
   "mimetype": "text/x-python",
   "name": "python",
   "nbconvert_exporter": "python",
   "pygments_lexer": "ipython3",
   "version": "3.10.0"
  },
  "orig_nbformat": 4
 },
 "nbformat": 4,
 "nbformat_minor": 2
}
