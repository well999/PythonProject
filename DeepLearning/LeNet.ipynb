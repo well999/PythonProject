{
 "cells": [
  {
   "cell_type": "code",
   "execution_count": null,
   "source": [
    "import torch\r\n",
    "import numpy as np\r\n",
    "from torchvision import datasets, transforms\r\n",
    "from torch import nn\r\n",
    "from torch.utils import data\r\n",
    "from matplotlib import pyplot as plt"
   ],
   "outputs": [],
   "metadata": {}
  },
  {
   "cell_type": "code",
   "execution_count": null,
   "source": [
    "class Reshape(nn.Module):\r\n",
    "    def forward(self, x):\r\n",
    "        return x.view(-1, 1, 224, 224)"
   ],
   "outputs": [],
   "metadata": {}
  },
  {
   "cell_type": "code",
   "execution_count": null,
   "source": [
    "def init_weight(m):\r\n",
    "    if type(m) in [nn.Linear, nn.Conv2d]:\r\n",
    "        nn.init.xavier_normal_(m.weight)"
   ],
   "outputs": [],
   "metadata": {}
  },
  {
   "cell_type": "code",
   "execution_count": null,
   "source": [
    "net = nn.Sequential(\r\n",
    "    Reshape(),\r\n",
    "    nn.Conv2d(1, 96, 11, 2),\r\n",
    "    nn.MaxPool2d(3, 2),\r\n",
    "    nn.Conv2d(96, 256, 5, padding=2),\r\n",
    "    nn.MaxPool2d(3, 2),\r\n",
    "    nn.Conv2d(256, 384, 3, padding=1),\r\n",
    "    nn.Conv2d(384, 384, 3, padding=1),\r\n",
    "    nn.Conv2d(384, 256, 3, padding=1),\r\n",
    "    nn.MaxPool2d(3, 2),\r\n",
    "    nn.Flatten(),\r\n",
    "    nn.Linear(256 * 12 * 12, 4096),\r\n",
    "    nn.ReLU(),\r\n",
    "    nn.Dropout(),\r\n",
    "    nn.Linear(4096, 4096),\r\n",
    "    nn.ReLU(),\r\n",
    "    nn.Dropout(),\r\n",
    "    nn.Linear(4096, 10)\r\n",
    ")"
   ],
   "outputs": [],
   "metadata": {}
  },
  {
   "cell_type": "code",
   "execution_count": null,
   "source": [
    "device = \"cuda\" if torch.cuda.is_available() else \"cpu\"\r\n",
    "net.apply(init_weight)\r\n",
    "net.to(device=device)"
   ],
   "outputs": [],
   "metadata": {}
  },
  {
   "cell_type": "code",
   "execution_count": null,
   "source": [
    "transform = transforms.Compose(\r\n",
    "    [transforms.ToTensor(), transforms.Normalize((0.5,), (0.5,))]\r\n",
    ")\r\n",
    "train = datasets.FashionMNIST(\"./data\", train=True, transform=transform)\r\n",
    "test = datasets.FashionMNIST(\"./data\", train=False, transform=transform)\r\n",
    "data = data.DataLoader(train, 4, shuffle=True, num_workers=4)\r\n",
    "optimizer = torch.optim.SGD(net.parameters(), lr=0.08)\r\n",
    "loss = nn.CrossEntropyLoss()\r\n",
    "epochs = 35"
   ],
   "outputs": [],
   "metadata": {}
  },
  {
   "cell_type": "code",
   "execution_count": null,
   "source": [
    "def trainer(data, optimizer, epochs, loss):\r\n",
    "    net.train()\r\n",
    "    J = np.empty(shape=0)\r\n",
    "    for _ in range(epochs):\r\n",
    "        costs = np.empty(shape=0)\r\n",
    "        for x, y in data:\r\n",
    "            optimizer.zero_grad()\r\n",
    "            l = loss(net(x.cuda()), y.cuda())\r\n",
    "            temp = l.clone()\r\n",
    "            temp = temp.to(device=\"cpu\")\r\n",
    "            costs = np.append(costs, temp.detach().numpy())\r\n",
    "            del temp\r\n",
    "            l.backward()\r\n",
    "            optimizer.step()\r\n",
    "        J = np.append(J, np.mean(costs))\r\n",
    "        del costs\r\n",
    "    return J"
   ],
   "outputs": [],
   "metadata": {}
  },
  {
   "cell_type": "code",
   "execution_count": null,
   "source": [
    "switch = True\r\n",
    "if switch:\r\n",
    "    trainer(data, optimizer, epochs, loss)\r\n",
    "    torch.save(net.state_dict(), \"./data/LeNet.pt\")"
   ],
   "outputs": [],
   "metadata": {}
  },
  {
   "cell_type": "code",
   "execution_count": null,
   "source": [
    "net.load_state_dict(torch.load(\"./data/LeNet.pt\"))\r\n",
    "net.to(device=\"cpu\")\r\n",
    "net.eval()\r\n",
    "score_test = list()\r\n",
    "score_train = list()\r\n",
    "for a, b in test:\r\n",
    "    score_test.append(net(a).argmax() == b)\r\n",
    "for c, d in train:\r\n",
    "    if len(score_train) < 10000:\r\n",
    "        score_train.append(net(c).argmax() == d)\r\n",
    "    else:\r\n",
    "        break\r\n",
    "accuracy_test = sum(score_test) / len(score_test)\r\n",
    "accuracy_train = sum(score_train) / len(score_train)"
   ],
   "outputs": [],
   "metadata": {}
  },
  {
   "cell_type": "code",
   "execution_count": null,
   "source": [
    "print(f\"acc_test:{accuracy_test}\")\r\n",
    "print(f\"acc_train:{accuracy_train}\")"
   ],
   "outputs": [],
   "metadata": {}
  }
 ],
 "metadata": {
  "orig_nbformat": 4,
  "language_info": {
   "name": "python",
   "version": "3.8.11",
   "mimetype": "text/x-python",
   "codemirror_mode": {
    "name": "ipython",
    "version": 3
   },
   "pygments_lexer": "ipython3",
   "nbconvert_exporter": "python",
   "file_extension": ".py"
  },
  "kernelspec": {
   "name": "python3",
   "display_name": "Python 3.8.11 64-bit ('base': conda)"
  },
  "interpreter": {
   "hash": "c51d22a6e700603606d0eacc0072ee59cf10084b737a530df8cd1ae37f92a519"
  }
 },
 "nbformat": 4,
 "nbformat_minor": 2
}