{
 "cells": [
  {
   "cell_type": "code",
   "execution_count": 1,
   "metadata": {},
   "outputs": [],
   "source": [
    "import torch\n",
    "from pathlib import Path\n",
    "from matplotlib import pyplot as plt\n",
    "from torch import nn\n",
    "from torch.utils import data\n",
    "from torchvision import transforms\n",
    "from torchvision import datasets"
   ]
  },
  {
   "cell_type": "code",
   "execution_count": null,
   "metadata": {},
   "outputs": [],
   "source": [
    "transform = transforms.Compose(\n",
    "    [\n",
    "        transforms.Resize([224, 224]),\n",
    "        transforms.ToTensor(),\n",
    "    ]\n",
    ")\n",
    "mnist_train = datasets.FashionMNIST(\"./data\", train=True, transform=transform)\n",
    "mnist_test = datasets.FashionMNIST(\"./data\", train=False, transform=transform)"
   ]
  },
  {
   "cell_type": "code",
   "execution_count": null,
   "metadata": {},
   "outputs": [],
   "source": [
    "net = nn.Sequential(\n",
    "    nn.Conv2d(1, 96, 11, 2),\n",
    "    nn.MaxPool2d(3, 2),\n",
    "    nn.Conv2d(96, 256, 5, padding=2),\n",
    "    nn.MaxPool2d(3, 2),\n",
    "    nn.Conv2d(256, 384, 3, padding=1),\n",
    "    nn.Conv2d(384, 384, 3, padding=1),\n",
    "    nn.Conv2d(384, 256, 3, padding=1),\n",
    "    nn.MaxPool2d(3, 2),\n",
    "    nn.Flatten(),\n",
    "    nn.Linear(256 * 12 * 12, 4096),\n",
    "    nn.ReLU(),\n",
    "    nn.Dropout(),\n",
    "    nn.Linear(4096, 4096),\n",
    "    nn.ReLU(),\n",
    "    nn.Dropout(),\n",
    "    nn.Linear(4096, 10)\n",
    ")"
   ]
  },
  {
   "cell_type": "code",
   "execution_count": null,
   "metadata": {},
   "outputs": [],
   "source": [
    "def init_weight(m):\n",
    "    if type(m) == nn.Linear or type(m) == nn.Conv2d:\n",
    "        nn.init.xavier_normal_(m.weight.data)"
   ]
  },
  {
   "cell_type": "code",
   "execution_count": null,
   "metadata": {},
   "outputs": [],
   "source": [
    "net.apply(init_weight)\n",
    "temp = torch.randn(1, 1, 224, 224)\n",
    "for layer in net:\n",
    "    temp = layer(temp)\n",
    "    print(layer.__class__.__name__, \"out size:\", temp.shape)"
   ]
  },
  {
   "cell_type": "code",
   "execution_count": null,
   "metadata": {},
   "outputs": [],
   "source": [
    "def trainer(net, data, loss, optimizer, epochs):\n",
    "    try:\n",
    "        print(\"读取参数\")\n",
    "        net.load_state_dict(torch.load(\"./data/alexnet.pt\"))\n",
    "    except FileNotFoundError:\n",
    "        print(\"参数文件不存在,开始训练网络\")\n",
    "        net.train()\n",
    "        for epoch in range(epochs):\n",
    "            print(f\"第{epoch}次迭代,网络训练中...\")\n",
    "            for x, y in data:\n",
    "                x = x.cuda()\n",
    "                y = y.cuda()\n",
    "                optimizer.zero_grad()\n",
    "                l = loss(net(x), y)\n",
    "                l.backward()\n",
    "                optimizer.step()\n",
    "        torch.save(net.state_dict(), \"./data/alexnet.pt\")\n",
    "        print(\"网络训练完成,存储参数\")\n",
    "    else:\n",
    "        print(\"参数读取成功\")"
   ]
  },
  {
   "cell_type": "code",
   "execution_count": null,
   "metadata": {},
   "outputs": [],
   "source": [
    "loss = nn.CrossEntropyLoss()\n",
    "optimizer = torch.optim.SGD(net.parameters(), 0.01)\n",
    "epochs = 1\n",
    "device = \"cuda\" if torch.cuda.is_available() else \"cpu\"\n",
    "data = data.DataLoader(mnist_train, batch_size=32, shuffle=True, num_workers=4)\n",
    "net.to(device)"
   ]
  },
  {
   "cell_type": "code",
   "execution_count": null,
   "metadata": {},
   "outputs": [],
   "source": [
    "trainer(net, data, loss, optimizer, epochs)"
   ]
  },
  {
   "cell_type": "code",
   "execution_count": null,
   "metadata": {},
   "outputs": [],
   "source": [
    "net.eval()\n",
    "score_test = list()\n",
    "score_train = list()\n",
    "for a, b in mnist_test:\n",
    "    a = a.reshape(-1, 1, 224, 224)\n",
    "    score_test.append(net(a.cuda()).argmax() == b)\n",
    "for c, d in mnist_train:\n",
    "    if len(score_train) < 10000:\n",
    "        c = c.reshape(-1, 1, 224, 224)\n",
    "        score_train.append(net(c.cuda()).argmax() == d)\n",
    "    else:\n",
    "        break\n",
    "accuracy_test = sum(score_test) / len(score_test)\n",
    "accuracy_train = sum(score_train) / len(score_train)"
   ]
  },
  {
   "cell_type": "code",
   "execution_count": null,
   "metadata": {},
   "outputs": [],
   "source": [
    "print(accuracy_test)"
   ]
  }
 ],
 "metadata": {
  "interpreter": {
   "hash": "37b255bb5dc0d995b91bd1b934b878e610a26475f52eafaf29fdb395fb105534"
  },
  "kernelspec": {
   "display_name": "Python 3.8.12 64-bit ('base': conda)",
   "name": "python3"
  },
  "language_info": {
   "codemirror_mode": {
    "name": "ipython",
    "version": 3
   },
   "file_extension": ".py",
   "mimetype": "text/x-python",
   "name": "python",
   "nbconvert_exporter": "python",
   "pygments_lexer": "ipython3",
   "version": "3.8.10"
  },
  "orig_nbformat": 4
 },
 "nbformat": 4,
 "nbformat_minor": 2
}
