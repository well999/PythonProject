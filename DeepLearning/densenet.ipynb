{
 "cells": [
  {
   "cell_type": "code",
   "execution_count": 2,
   "metadata": {},
   "outputs": [],
   "source": [
    "import torch\n",
    "from torch import nn\n",
    "from torchvision import datasets\n",
    "from torch.utils import data\n",
    "from torchvision import transforms"
   ]
  },
  {
   "cell_type": "code",
   "execution_count": 3,
   "metadata": {},
   "outputs": [],
   "source": [
    "class DenseBlock(nn.Module):\n",
    "    def __init__(self, num, inchannel, outchannel):\n",
    "        super().__init__()\n",
    "        self.block = nn.Sequential()\n",
    "        for i in range(num):\n",
    "            self.block.add_module(f\"convblock{i}\", self.convblock(inchannel + i * outchannel, outchannel))\n",
    "\n",
    "    def convblock(self, inchannel, outchannel):\n",
    "        return nn.Sequential(\n",
    "            nn.BatchNorm2d(inchannel),\n",
    "            nn.ReLU(),\n",
    "            nn.Conv2d(inchannel, outchannel, 3, padding=1),\n",
    "        )\n",
    "\n",
    "    def forward(self, x):\n",
    "        for layers in self.block:\n",
    "            y = layers(x)\n",
    "            x = torch.cat((x ,y), dim=1)\n",
    "        return x"
   ]
  },
  {
   "cell_type": "code",
   "execution_count": 5,
   "metadata": {},
   "outputs": [
    {
     "data": {
      "text/plain": [
       "torch.Size([2, 23, 5, 5])"
      ]
     },
     "execution_count": 5,
     "metadata": {},
     "output_type": "execute_result"
    }
   ],
   "source": [
    "temp = torch.rand(2, 3, 5, 5)\n",
    "net = DenseBlock(2, 3, 10)\n",
    "net(temp).shape"
   ]
  }
 ],
 "metadata": {
  "interpreter": {
   "hash": "37b255bb5dc0d995b91bd1b934b878e610a26475f52eafaf29fdb395fb105534"
  },
  "kernelspec": {
   "display_name": "Python 3.8.12 64-bit ('base': conda)",
   "name": "python3"
  },
  "language_info": {
   "codemirror_mode": {
    "name": "ipython",
    "version": 3
   },
   "file_extension": ".py",
   "mimetype": "text/x-python",
   "name": "python",
   "nbconvert_exporter": "python",
   "pygments_lexer": "ipython3",
   "version": "3.8.12"
  },
  "orig_nbformat": 4
 },
 "nbformat": 4,
 "nbformat_minor": 2
}
