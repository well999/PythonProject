{
 "cells": [
  {
   "cell_type": "code",
   "execution_count": 1,
   "metadata": {},
   "outputs": [],
   "source": [
    "import torch\n",
    "from torch import nn\n",
    "from torch.nn import functional as F"
   ]
  },
  {
   "cell_type": "code",
   "execution_count": 2,
   "metadata": {},
   "outputs": [],
   "source": [
    "X = torch.randn(3, 4, device=\"cuda\")"
   ]
  },
  {
   "cell_type": "code",
   "execution_count": 3,
   "metadata": {},
   "outputs": [],
   "source": [
    "class Mysequential(nn.Module):\n",
    "    def __init__(self, *args):\n",
    "        super().__init__()\n",
    "        for arg in args:\n",
    "            self._modules[arg] = arg\n",
    "    def forward(self, x):\n",
    "        for block in self._modules.values():\n",
    "            x = block(x)\n",
    "        return x"
   ]
  },
  {
   "cell_type": "code",
   "execution_count": 4,
   "metadata": {},
   "outputs": [],
   "source": [
    "class MLP(nn.Module):\n",
    "    def __init__(self):\n",
    "        super().__init__()\n",
    "        self.hidden = nn.Linear(4, 2)\n",
    "        self.out = nn.Linear(2, 2)\n",
    "    def forward(self, x):\n",
    "        return F.softmax(self.out(F.relu(self.hidden(x))), dim=1)"
   ]
  },
  {
   "cell_type": "code",
   "execution_count": 5,
   "metadata": {},
   "outputs": [
    {
     "data": {
      "text/plain": [
       "OrderedDict([(Linear(in_features=4, out_features=2, bias=True),\n",
       "              Linear(in_features=4, out_features=2, bias=True)),\n",
       "             (ReLU(), ReLU()),\n",
       "             (Linear(in_features=2, out_features=2, bias=True),\n",
       "              Linear(in_features=2, out_features=2, bias=True)),\n",
       "             (Softmax(dim=1), Softmax(dim=1))])"
      ]
     },
     "execution_count": 5,
     "metadata": {},
     "output_type": "execute_result"
    }
   ],
   "source": [
    "net = Mysequential(nn.Linear(4, 2), nn.ReLU(), nn.Linear(2, 2), nn.Softmax(dim=1))\n",
    "if torch.cuda.is_available():\n",
    "    net.to(\"cuda\")\n",
    "net(X)"
   ]
  },
  {
   "cell_type": "code",
   "execution_count": 6,
   "metadata": {},
   "outputs": [
    {
     "data": {
      "text/plain": [
       "(MLP(\n",
       "   (hidden): Linear(in_features=4, out_features=2, bias=True)\n",
       "   (out): Linear(in_features=2, out_features=2, bias=True)\n",
       " ),\n",
       " OrderedDict([('hidden.weight',\n",
       "               tensor([[ 0.1849,  0.3872, -0.2210,  0.0789],\n",
       "                       [ 0.0913,  0.4707,  0.0143, -0.0799]])),\n",
       "              ('hidden.bias', tensor([-0.2144, -0.0146])),\n",
       "              ('out.weight',\n",
       "               tensor([[-0.6844,  0.5484],\n",
       "                       [-0.3093,  0.4149]])),\n",
       "              ('out.bias', tensor([0.4019, 0.2954]))]))"
      ]
     },
     "execution_count": 6,
     "metadata": {},
     "output_type": "execute_result"
    }
   ],
   "source": [
    "net1 = MLP()\n",
    "torch.save(net1.state_dict(), \"./data/mlp_paramters.pt\")\n",
    "net1.load_state_dict(torch.load(\"./data/mlp_paramters.pt\"))\n",
    "net1.eval(), net1.state_dict()"
   ]
  },
  {
   "cell_type": "code",
   "execution_count": 7,
   "metadata": {},
   "outputs": [
    {
     "data": {
      "text/plain": [
       "[Parameter containing:\n",
       " tensor([[ 0.1849,  0.3872, -0.2210,  0.0789],\n",
       "         [ 0.0913,  0.4707,  0.0143, -0.0799]], requires_grad=True),\n",
       " Parameter containing:\n",
       " tensor([-0.2144, -0.0146], requires_grad=True),\n",
       " Parameter containing:\n",
       " tensor([[-0.6844,  0.5484],\n",
       "         [-0.3093,  0.4149]], requires_grad=True),\n",
       " Parameter containing:\n",
       " tensor([0.4019, 0.2954], requires_grad=True)]"
      ]
     },
     "execution_count": 7,
     "metadata": {},
     "output_type": "execute_result"
    }
   ],
   "source": [
    "list(net1.parameters())"
   ]
  }
 ],
 "metadata": {
  "interpreter": {
   "hash": "c51d22a6e700603606d0eacc0072ee59cf10084b737a530df8cd1ae37f92a519"
  },
  "kernelspec": {
   "display_name": "Python 3.8.11 64-bit ('base': conda)",
   "name": "python3"
  },
  "language_info": {
   "codemirror_mode": {
    "name": "ipython",
    "version": 3
   },
   "file_extension": ".py",
   "mimetype": "text/x-python",
   "name": "python",
   "nbconvert_exporter": "python",
   "pygments_lexer": "ipython3",
   "version": "3.8.11"
  },
  "orig_nbformat": 4
 },
 "nbformat": 4,
 "nbformat_minor": 2
}
