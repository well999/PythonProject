{
 "cells": [
  {
   "cell_type": "code",
   "execution_count": 1,
   "metadata": {},
   "outputs": [],
   "source": [
    "from pathlib import Path\n",
    "import torch\n",
    "import matplotlib.pyplot as plt\n",
    "import numpy as np\n",
    "import random\n",
    "from torch.utils import data\n",
    "from torch import nn\n",
    "%matplotlib inline"
   ]
  },
  {
   "cell_type": "code",
   "execution_count": 2,
   "metadata": {},
   "outputs": [],
   "source": [
    "def sythentic_data(w, b, rows):\n",
    "    with torch.no_grad():\n",
    "        x = torch.normal(0, 1, size=(rows, len(w))) # normal函数中的size参数必须为元组类型\n",
    "        y = x @ w + b + torch.normal(0, 0.01, size=(rows,))\n",
    "    return x, y"
   ]
  },
  {
   "cell_type": "code",
   "execution_count": 3,
   "metadata": {},
   "outputs": [],
   "source": [
    "def random_data(x, y, batch):\n",
    "    index = list(range(len(x)))\n",
    "    random.shuffle(index)\n",
    "    for i in range(0, len(y), batch):\n",
    "        id = index[i:min(i+batch, len(y))]\n",
    "        yield x[id], y[id]"
   ]
  },
  {
   "cell_type": "code",
   "execution_count": 4,
   "metadata": {},
   "outputs": [],
   "source": [
    "def lossFunction(x, y, w, b, func):\n",
    "    loss = torch.pow(func(x, w, b) - y, 2)\n",
    "    return torch.sum(loss) / (2 * len(y))"
   ]
  },
  {
   "cell_type": "code",
   "execution_count": 5,
   "metadata": {},
   "outputs": [],
   "source": [
    "def optimize(*params, alpha):\n",
    "    with torch.no_grad():\n",
    "        for param in params:\n",
    "            param.data -= alpha * param.grad\n",
    "            param.grad.zero_()"
   ]
  },
  {
   "cell_type": "code",
   "execution_count": 6,
   "metadata": {},
   "outputs": [],
   "source": [
    "rows = 200\n",
    "w = torch.normal(0, 1, size=(2,), requires_grad=True)\n",
    "b = torch.zeros(1, requires_grad=True)\n",
    "w_true = torch.tensor([0.5, 1.2])\n",
    "b_true = torch.tensor(2.)\n",
    "alpha = 0.03\n",
    "epoch = 20\n",
    "batch = 20\n",
    "x, y = sythentic_data(w_true, b_true, rows)\n",
    "func = lambda x, w, b :x @ w + b"
   ]
  },
  {
   "cell_type": "code",
   "execution_count": 7,
   "metadata": {},
   "outputs": [],
   "source": [
    "plt.rcParams[\"font.sans-serif\"] = \"SimHei\"\n",
    "plt.rcParams[\"axes.unicode_minus\"] = False"
   ]
  },
  {
   "cell_type": "code",
   "execution_count": 8,
   "metadata": {},
   "outputs": [
    {
     "data": {
      "text/plain": [
       "<matplotlib.collections.PathCollection at 0x2887d1cdb50>"
      ]
     },
     "execution_count": 8,
     "metadata": {},
     "output_type": "execute_result"
    }
   ],
   "source": [
    "plt.close(1)\n",
    "plt.figure(1)\n",
    "plt.scatter(x.numpy()[:, 0], y.numpy())"
   ]
  },
  {
   "cell_type": "code",
   "execution_count": null,
   "metadata": {},
   "outputs": [],
   "source": [
    "J = np.empty(shape=0)\n",
    "for _ in range(epoch):\n",
    "    l = np.empty(shape=0)\n",
    "    for bx, by in random_data(x, y, batch):\n",
    "        loss = lossFunction(bx, by, w, b, func)\n",
    "        l = np.append(l, loss.data.numpy())\n",
    "        loss.backward()\n",
    "        optimize(w, b, alpha=alpha)\n",
    "    J = np.append(J, l.mean())\n",
    "del l"
   ]
  },
  {
   "cell_type": "code",
   "execution_count": null,
   "metadata": {},
   "outputs": [],
   "source": [
    "plt.close(2)\n",
    "plt.figure(2)\n",
    "plt.plot(range(len(J)), J)"
   ]
  },
  {
   "cell_type": "code",
   "execution_count": null,
   "metadata": {},
   "outputs": [
    {
     "ename": "Error",
     "evalue": "Session cannot generate requests",
     "output_type": "error",
     "traceback": [
      "Error: Session cannot generate requests",
      "at S.executeCodeCell (c:\\Users\\jhZou\\.vscode\\extensions\\ms-toolsai.jupyter-2021.10.1001414422\\out\\client\\extension.js:66:301742)",
      "at S.execute (c:\\Users\\jhZou\\.vscode\\extensions\\ms-toolsai.jupyter-2021.10.1001414422\\out\\client\\extension.js:66:300732)",
      "at S.start (c:\\Users\\jhZou\\.vscode\\extensions\\ms-toolsai.jupyter-2021.10.1001414422\\out\\client\\extension.js:66:296408)",
      "at runMicrotasks (<anonymous>)",
      "at processTicksAndRejections (internal/process/task_queues.js:93:5)",
      "at async t.CellExecutionQueue.executeQueuedCells (c:\\Users\\jhZou\\.vscode\\extensions\\ms-toolsai.jupyter-2021.10.1001414422\\out\\client\\extension.js:66:312326)",
      "at async t.CellExecutionQueue.start (c:\\Users\\jhZou\\.vscode\\extensions\\ms-toolsai.jupyter-2021.10.1001414422\\out\\client\\extension.js:66:311862)"
     ]
    }
   ],
   "source": [
    "# 错误总结\n",
    "'''x = torch.normal(0, 1, size=(rows, len(w)))\n",
    "y = x @ w + b + torch.normal(0, 0.01, size=(rows,)) # 没有关闭数据构造函数的梯度，程序自动对y求导，导致梯度为0\n",
    "loss = torch.pow((x @ w + b - y), 2)\n",
    "loss.sum().backward()\n",
    "w.grad'''"
   ]
  },
  {
   "cell_type": "markdown",
   "metadata": {},
   "source": [
    "## 交叉熵损失函数\n",
    "$$\n",
    "loss = -\\sum_{i=0}^{n} y_i \\log \\frac{e^{o_i}}{\\sum_{j=0}^{m} e^{o_j}}\n",
    "$$"
   ]
  },
  {
   "cell_type": "code",
   "execution_count": null,
   "metadata": {},
   "outputs": [],
   "source": [
    "x1, y1 = sythentic_data(w_true, b_true, rows)\n",
    "temp = data.TensorDataset(x1, y1)\n",
    "dataset = data.DataLoader(temp, batch, shuffle=True)\n",
    "net = nn.Sequential(nn.Linear(2, 1))\n",
    "mseloss = nn.MSELoss()\n",
    "net[0].weight.data.normal_(0.1, 0.01)\n",
    "net[0].bias.data.fill_(0)\n",
    "trainer = torch.optim.SGD(net.parameters(), lr=0.03)\n",
    "for _ in range(epoch):\n",
    "    for xx, yy in dataset:\n",
    "        loss = mseloss(net(xx), yy.reshape(-1, 1))\n",
    "        trainer.zero_grad()\n",
    "        loss.backward()\n",
    "        trainer.step()"
   ]
  },
  {
   "cell_type": "code",
   "execution_count": null,
   "metadata": {},
   "outputs": [],
   "source": [
    "net[0].weight.data, net[0].bias.data"
   ]
  }
 ],
 "metadata": {
  "interpreter": {
   "hash": "c51d22a6e700603606d0eacc0072ee59cf10084b737a530df8cd1ae37f92a519"
  },
  "kernelspec": {
   "display_name": "Python 3.8.11 64-bit ('base': conda)",
   "name": "python3"
  },
  "language_info": {
   "codemirror_mode": {
    "name": "ipython",
    "version": 3
   },
   "file_extension": ".py",
   "mimetype": "text/x-python",
   "name": "python",
   "nbconvert_exporter": "python",
   "pygments_lexer": "ipython3",
   "version": "3.8.12"
  },
  "orig_nbformat": 4
 },
 "nbformat": 4,
 "nbformat_minor": 2
}
