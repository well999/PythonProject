{
 "cells": [
  {
   "cell_type": "code",
   "execution_count": null,
   "metadata": {},
   "outputs": [
    {
     "ename": "Error",
     "evalue": "Session cannot generate requests",
     "output_type": "error",
     "traceback": [
      "Error: Session cannot generate requests",
      "at S.executeCodeCell (c:\\Users\\jhZou\\.vscode\\extensions\\ms-toolsai.jupyter-2021.10.1001414422\\out\\client\\extension.js:66:301742)",
      "at S.execute (c:\\Users\\jhZou\\.vscode\\extensions\\ms-toolsai.jupyter-2021.10.1001414422\\out\\client\\extension.js:66:300732)",
      "at S.start (c:\\Users\\jhZou\\.vscode\\extensions\\ms-toolsai.jupyter-2021.10.1001414422\\out\\client\\extension.js:66:296408)",
      "at runMicrotasks (<anonymous>)",
      "at processTicksAndRejections (internal/process/task_queues.js:93:5)",
      "at async t.CellExecutionQueue.executeQueuedCells (c:\\Users\\jhZou\\.vscode\\extensions\\ms-toolsai.jupyter-2021.10.1001414422\\out\\client\\extension.js:66:312326)",
      "at async t.CellExecutionQueue.start (c:\\Users\\jhZou\\.vscode\\extensions\\ms-toolsai.jupyter-2021.10.1001414422\\out\\client\\extension.js:66:311862)"
     ]
    }
   ],
   "source": [
    "import numpy as np\n",
    "import matplotlib.pyplot as plt\n",
    "from matplotlib.animation import FuncAnimation\n",
    "%matplotlib qt"
   ]
  },
  {
   "cell_type": "code",
   "execution_count": null,
   "metadata": {},
   "outputs": [
    {
     "ename": "Error",
     "evalue": "Session cannot generate requests",
     "output_type": "error",
     "traceback": [
      "Error: Session cannot generate requests",
      "at S.executeCodeCell (c:\\Users\\jhZou\\.vscode\\extensions\\ms-toolsai.jupyter-2021.10.1001414422\\out\\client\\extension.js:66:301742)",
      "at S.execute (c:\\Users\\jhZou\\.vscode\\extensions\\ms-toolsai.jupyter-2021.10.1001414422\\out\\client\\extension.js:66:300732)",
      "at S.start (c:\\Users\\jhZou\\.vscode\\extensions\\ms-toolsai.jupyter-2021.10.1001414422\\out\\client\\extension.js:66:296408)",
      "at runMicrotasks (<anonymous>)",
      "at processTicksAndRejections (internal/process/task_queues.js:93:5)",
      "at async t.CellExecutionQueue.executeQueuedCells (c:\\Users\\jhZou\\.vscode\\extensions\\ms-toolsai.jupyter-2021.10.1001414422\\out\\client\\extension.js:66:312326)",
      "at async t.CellExecutionQueue.start (c:\\Users\\jhZou\\.vscode\\extensions\\ms-toolsai.jupyter-2021.10.1001414422\\out\\client\\extension.js:66:311862)"
     ]
    }
   ],
   "source": [
    "x = np.arange(10)\n",
    "plt.figure()\n",
    "plt.plot(x, x)"
   ]
  },
  {
   "cell_type": "markdown",
   "metadata": {},
   "source": [
    "# 定义画布\n",
    "fig= plt.figure()\n",
    "line, = plt.plot([], [])  # 返回的第一个值是update函数需要改变的\n",
    "# 获取直线的数组\n",
    "def line_space(B):\n",
    "    x = np.linspace(0, 10, 100)\n",
    "    return x, x + B\n",
    "\n",
    "# 这里B就是frame\n",
    "def update(B):\n",
    "    plt.xlim(0, 10)\n",
    "    plt.ylim(0, 20)\n",
    "    x, y = line_space(B)\n",
    "    line.set_data(x, y)\n",
    "    return line\n",
    "\n",
    "# 使用函数并保存保存会在下一篇文章讲\n",
    "# 可以用plt.show()来代替一下\n",
    "ani = FuncAnimation(fig, update, frames=np.linspace(0, 10, 100), interval=50)"
   ]
  },
  {
   "cell_type": "code",
   "execution_count": 2,
   "metadata": {},
   "outputs": [],
   "source": [
    "def simple_plot():\n",
    "    \"\"\"\n",
    "    simple plot\n",
    "    \"\"\"\n",
    "    # 生成画布\n",
    "    plt.figure(figsize=(8, 6), dpi=80)\n",
    "\n",
    "    # 打开交互模式\n",
    "    plt.ion()\n",
    "\n",
    "    # 循环\n",
    "    for index in range(100):\n",
    "        # 清除原有图像\n",
    "        plt.cla()\n",
    "\n",
    "        # 设定标题等\n",
    "        plt.title(\"动态曲线图\")\n",
    "        plt.grid(True)\n",
    "\n",
    "        # 生成测试数据\n",
    "        x = np.linspace(-np.pi + 0.1*index, np.pi+0.1*index, 256, endpoint=True)\n",
    "        y_cos, y_sin = np.cos(x), np.sin(x)\n",
    "\n",
    "        # 设置X轴\n",
    "        plt.xlabel(\"X轴\")\n",
    "        plt.xlim(-4 + 0.1*index, 4 + 0.1*index)\n",
    "        plt.xticks(np.linspace(-4 + 0.1*index, 4+0.1*index, 9, endpoint=True))\n",
    "\n",
    "        # 设置Y轴\n",
    "        plt.ylabel(\"Y轴\")\n",
    "        plt.ylim(-1.0, 1.0)\n",
    "        plt.yticks(np.linspace(-1, 1, 9, endpoint=True))\n",
    "\n",
    "        # 画两条曲线\n",
    "        plt.plot(x, y_cos, \"b--\", linewidth=2.0, label=\"cos示例\")\n",
    "        plt.plot(x, y_sin, \"g-\", linewidth=2.0, label=\"sin示例\")\n",
    "\n",
    "        # 设置图例位置,loc可以为[upper, lower, left, right, center]\n",
    "        plt.legend(loc=\"upper left\", shadow=True)\n",
    "\n",
    "        # 暂停\n",
    "        plt.pause(0.1)\n",
    "\n",
    "    # 关闭交互模式\n",
    "    plt.ioff()"
   ]
  },
  {
   "cell_type": "code",
   "execution_count": 3,
   "metadata": {},
   "outputs": [
    {
     "name": "stdout",
     "output_type": "stream",
     "text": [
      "over\n"
     ]
    }
   ],
   "source": [
    "plt.rcParams[\"font.sans-serif\"] = \"SimHei\"\n",
    "plt.rcParams[\"axes.unicode_minus\"] = False\n",
    "simple_plot()\n",
    "print(\"over\")"
   ]
  }
 ],
 "metadata": {
  "interpreter": {
   "hash": "37b255bb5dc0d995b91bd1b934b878e610a26475f52eafaf29fdb395fb105534"
  },
  "kernelspec": {
   "display_name": "Python 3.8.12 64-bit ('base': conda)",
   "name": "python3"
  },
  "language_info": {
   "codemirror_mode": {
    "name": "ipython",
    "version": 3
   },
   "file_extension": ".py",
   "mimetype": "text/x-python",
   "name": "python",
   "nbconvert_exporter": "python",
   "pygments_lexer": "ipython3",
   "version": "3.8.12"
  },
  "orig_nbformat": 4
 },
 "nbformat": 4,
 "nbformat_minor": 2
}
